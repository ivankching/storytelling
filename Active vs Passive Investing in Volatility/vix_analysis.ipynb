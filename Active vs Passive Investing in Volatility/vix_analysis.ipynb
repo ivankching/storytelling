{
 "cells": [
  {
   "cell_type": "code",
   "execution_count": 32,
   "id": "b772ca38",
   "metadata": {},
   "outputs": [],
   "source": [
    "import yfinance as yf\n",
    "import datetime\n",
    "import seaborn as sns\n",
    "import matplotlib.pyplot as plt\n",
    "from scipy import stats\n",
    "import pandas as pd"
   ]
  },
  {
   "cell_type": "markdown",
   "id": "afa48182",
   "metadata": {},
   "source": [
    "Earliest start date: 1990-01-02"
   ]
  },
  {
   "cell_type": "code",
   "execution_count": 2,
   "id": "0a42035a",
   "metadata": {},
   "outputs": [],
   "source": [
    "today = datetime.date.today().strftime('%Y-%m-%d')"
   ]
  },
  {
   "cell_type": "code",
   "execution_count": 3,
   "id": "4a4ddd47",
   "metadata": {},
   "outputs": [],
   "source": [
    "vix = yf.Ticker(\"^VIX\").history(start=\"1900-01-01\", end=today)"
   ]
  },
  {
   "cell_type": "code",
   "execution_count": 4,
   "id": "a30a9779",
   "metadata": {},
   "outputs": [
    {
     "data": {
      "text/html": [
       "<div>\n",
       "<style scoped>\n",
       "    .dataframe tbody tr th:only-of-type {\n",
       "        vertical-align: middle;\n",
       "    }\n",
       "\n",
       "    .dataframe tbody tr th {\n",
       "        vertical-align: top;\n",
       "    }\n",
       "\n",
       "    .dataframe thead th {\n",
       "        text-align: right;\n",
       "    }\n",
       "</style>\n",
       "<table border=\"1\" class=\"dataframe\">\n",
       "  <thead>\n",
       "    <tr style=\"text-align: right;\">\n",
       "      <th></th>\n",
       "      <th>Open</th>\n",
       "      <th>High</th>\n",
       "      <th>Low</th>\n",
       "      <th>Close</th>\n",
       "      <th>Volume</th>\n",
       "      <th>Dividends</th>\n",
       "      <th>Stock Splits</th>\n",
       "    </tr>\n",
       "    <tr>\n",
       "      <th>Date</th>\n",
       "      <th></th>\n",
       "      <th></th>\n",
       "      <th></th>\n",
       "      <th></th>\n",
       "      <th></th>\n",
       "      <th></th>\n",
       "      <th></th>\n",
       "    </tr>\n",
       "  </thead>\n",
       "  <tbody>\n",
       "    <tr>\n",
       "      <th>2025-07-07 00:00:00-05:00</th>\n",
       "      <td>17.83</td>\n",
       "      <td>18.500000</td>\n",
       "      <td>17.510000</td>\n",
       "      <td>17.790001</td>\n",
       "      <td>0</td>\n",
       "      <td>0.0</td>\n",
       "      <td>0.0</td>\n",
       "    </tr>\n",
       "    <tr>\n",
       "      <th>2025-07-08 00:00:00-05:00</th>\n",
       "      <td>17.41</td>\n",
       "      <td>17.440001</td>\n",
       "      <td>16.540001</td>\n",
       "      <td>16.809999</td>\n",
       "      <td>0</td>\n",
       "      <td>0.0</td>\n",
       "      <td>0.0</td>\n",
       "    </tr>\n",
       "    <tr>\n",
       "      <th>2025-07-09 00:00:00-05:00</th>\n",
       "      <td>16.76</td>\n",
       "      <td>16.760000</td>\n",
       "      <td>15.760000</td>\n",
       "      <td>15.940000</td>\n",
       "      <td>0</td>\n",
       "      <td>0.0</td>\n",
       "      <td>0.0</td>\n",
       "    </tr>\n",
       "    <tr>\n",
       "      <th>2025-07-10 00:00:00-05:00</th>\n",
       "      <td>16.23</td>\n",
       "      <td>16.240000</td>\n",
       "      <td>15.700000</td>\n",
       "      <td>15.780000</td>\n",
       "      <td>0</td>\n",
       "      <td>0.0</td>\n",
       "      <td>0.0</td>\n",
       "    </tr>\n",
       "    <tr>\n",
       "      <th>2025-07-11 00:00:00-05:00</th>\n",
       "      <td>16.41</td>\n",
       "      <td>17.240000</td>\n",
       "      <td>15.980000</td>\n",
       "      <td>16.400000</td>\n",
       "      <td>0</td>\n",
       "      <td>0.0</td>\n",
       "      <td>0.0</td>\n",
       "    </tr>\n",
       "  </tbody>\n",
       "</table>\n",
       "</div>"
      ],
      "text/plain": [
       "                            Open       High        Low      Close  Volume  \\\n",
       "Date                                                                        \n",
       "2025-07-07 00:00:00-05:00  17.83  18.500000  17.510000  17.790001       0   \n",
       "2025-07-08 00:00:00-05:00  17.41  17.440001  16.540001  16.809999       0   \n",
       "2025-07-09 00:00:00-05:00  16.76  16.760000  15.760000  15.940000       0   \n",
       "2025-07-10 00:00:00-05:00  16.23  16.240000  15.700000  15.780000       0   \n",
       "2025-07-11 00:00:00-05:00  16.41  17.240000  15.980000  16.400000       0   \n",
       "\n",
       "                           Dividends  Stock Splits  \n",
       "Date                                                \n",
       "2025-07-07 00:00:00-05:00        0.0           0.0  \n",
       "2025-07-08 00:00:00-05:00        0.0           0.0  \n",
       "2025-07-09 00:00:00-05:00        0.0           0.0  \n",
       "2025-07-10 00:00:00-05:00        0.0           0.0  \n",
       "2025-07-11 00:00:00-05:00        0.0           0.0  "
      ]
     },
     "execution_count": 4,
     "metadata": {},
     "output_type": "execute_result"
    }
   ],
   "source": [
    "vix.tail()"
   ]
  },
  {
   "cell_type": "code",
   "execution_count": 5,
   "id": "ccaeb656",
   "metadata": {},
   "outputs": [
    {
     "data": {
      "text/html": [
       "<div>\n",
       "<style scoped>\n",
       "    .dataframe tbody tr th:only-of-type {\n",
       "        vertical-align: middle;\n",
       "    }\n",
       "\n",
       "    .dataframe tbody tr th {\n",
       "        vertical-align: top;\n",
       "    }\n",
       "\n",
       "    .dataframe thead th {\n",
       "        text-align: right;\n",
       "    }\n",
       "</style>\n",
       "<table border=\"1\" class=\"dataframe\">\n",
       "  <thead>\n",
       "    <tr style=\"text-align: right;\">\n",
       "      <th></th>\n",
       "      <th>Open</th>\n",
       "      <th>High</th>\n",
       "      <th>Low</th>\n",
       "      <th>Close</th>\n",
       "      <th>Volume</th>\n",
       "      <th>Dividends</th>\n",
       "      <th>Stock Splits</th>\n",
       "    </tr>\n",
       "    <tr>\n",
       "      <th>Date</th>\n",
       "      <th></th>\n",
       "      <th></th>\n",
       "      <th></th>\n",
       "      <th></th>\n",
       "      <th></th>\n",
       "      <th></th>\n",
       "      <th></th>\n",
       "    </tr>\n",
       "  </thead>\n",
       "  <tbody>\n",
       "    <tr>\n",
       "      <th>1990-01-02 00:00:00-06:00</th>\n",
       "      <td>17.240000</td>\n",
       "      <td>17.240000</td>\n",
       "      <td>17.240000</td>\n",
       "      <td>17.240000</td>\n",
       "      <td>0</td>\n",
       "      <td>0.0</td>\n",
       "      <td>0.0</td>\n",
       "    </tr>\n",
       "    <tr>\n",
       "      <th>1990-01-03 00:00:00-06:00</th>\n",
       "      <td>18.190001</td>\n",
       "      <td>18.190001</td>\n",
       "      <td>18.190001</td>\n",
       "      <td>18.190001</td>\n",
       "      <td>0</td>\n",
       "      <td>0.0</td>\n",
       "      <td>0.0</td>\n",
       "    </tr>\n",
       "    <tr>\n",
       "      <th>1990-01-04 00:00:00-06:00</th>\n",
       "      <td>19.219999</td>\n",
       "      <td>19.219999</td>\n",
       "      <td>19.219999</td>\n",
       "      <td>19.219999</td>\n",
       "      <td>0</td>\n",
       "      <td>0.0</td>\n",
       "      <td>0.0</td>\n",
       "    </tr>\n",
       "    <tr>\n",
       "      <th>1990-01-05 00:00:00-06:00</th>\n",
       "      <td>20.110001</td>\n",
       "      <td>20.110001</td>\n",
       "      <td>20.110001</td>\n",
       "      <td>20.110001</td>\n",
       "      <td>0</td>\n",
       "      <td>0.0</td>\n",
       "      <td>0.0</td>\n",
       "    </tr>\n",
       "    <tr>\n",
       "      <th>1990-01-08 00:00:00-06:00</th>\n",
       "      <td>20.260000</td>\n",
       "      <td>20.260000</td>\n",
       "      <td>20.260000</td>\n",
       "      <td>20.260000</td>\n",
       "      <td>0</td>\n",
       "      <td>0.0</td>\n",
       "      <td>0.0</td>\n",
       "    </tr>\n",
       "  </tbody>\n",
       "</table>\n",
       "</div>"
      ],
      "text/plain": [
       "                                Open       High        Low      Close  Volume  \\\n",
       "Date                                                                            \n",
       "1990-01-02 00:00:00-06:00  17.240000  17.240000  17.240000  17.240000       0   \n",
       "1990-01-03 00:00:00-06:00  18.190001  18.190001  18.190001  18.190001       0   \n",
       "1990-01-04 00:00:00-06:00  19.219999  19.219999  19.219999  19.219999       0   \n",
       "1990-01-05 00:00:00-06:00  20.110001  20.110001  20.110001  20.110001       0   \n",
       "1990-01-08 00:00:00-06:00  20.260000  20.260000  20.260000  20.260000       0   \n",
       "\n",
       "                           Dividends  Stock Splits  \n",
       "Date                                                \n",
       "1990-01-02 00:00:00-06:00        0.0           0.0  \n",
       "1990-01-03 00:00:00-06:00        0.0           0.0  \n",
       "1990-01-04 00:00:00-06:00        0.0           0.0  \n",
       "1990-01-05 00:00:00-06:00        0.0           0.0  \n",
       "1990-01-08 00:00:00-06:00        0.0           0.0  "
      ]
     },
     "execution_count": 5,
     "metadata": {},
     "output_type": "execute_result"
    }
   ],
   "source": [
    "vix.head()"
   ]
  },
  {
   "cell_type": "code",
   "execution_count": 6,
   "id": "9197a892",
   "metadata": {},
   "outputs": [],
   "source": [
    "vix = vix.reset_index()\n",
    "\n",
    "vix = vix[[\"Date\", \"Close\"]].copy()\n",
    "vix.columns = [col.lower() for col in vix.columns]"
   ]
  },
  {
   "cell_type": "code",
   "execution_count": 7,
   "id": "52f7b872",
   "metadata": {},
   "outputs": [
    {
     "data": {
      "text/html": [
       "<div>\n",
       "<style scoped>\n",
       "    .dataframe tbody tr th:only-of-type {\n",
       "        vertical-align: middle;\n",
       "    }\n",
       "\n",
       "    .dataframe tbody tr th {\n",
       "        vertical-align: top;\n",
       "    }\n",
       "\n",
       "    .dataframe thead th {\n",
       "        text-align: right;\n",
       "    }\n",
       "</style>\n",
       "<table border=\"1\" class=\"dataframe\">\n",
       "  <thead>\n",
       "    <tr style=\"text-align: right;\">\n",
       "      <th></th>\n",
       "      <th>date</th>\n",
       "      <th>close</th>\n",
       "    </tr>\n",
       "  </thead>\n",
       "  <tbody>\n",
       "    <tr>\n",
       "      <th>0</th>\n",
       "      <td>1990-01-02 00:00:00-06:00</td>\n",
       "      <td>17.240000</td>\n",
       "    </tr>\n",
       "    <tr>\n",
       "      <th>1</th>\n",
       "      <td>1990-01-03 00:00:00-06:00</td>\n",
       "      <td>18.190001</td>\n",
       "    </tr>\n",
       "    <tr>\n",
       "      <th>2</th>\n",
       "      <td>1990-01-04 00:00:00-06:00</td>\n",
       "      <td>19.219999</td>\n",
       "    </tr>\n",
       "    <tr>\n",
       "      <th>3</th>\n",
       "      <td>1990-01-05 00:00:00-06:00</td>\n",
       "      <td>20.110001</td>\n",
       "    </tr>\n",
       "    <tr>\n",
       "      <th>4</th>\n",
       "      <td>1990-01-08 00:00:00-06:00</td>\n",
       "      <td>20.260000</td>\n",
       "    </tr>\n",
       "  </tbody>\n",
       "</table>\n",
       "</div>"
      ],
      "text/plain": [
       "                       date      close\n",
       "0 1990-01-02 00:00:00-06:00  17.240000\n",
       "1 1990-01-03 00:00:00-06:00  18.190001\n",
       "2 1990-01-04 00:00:00-06:00  19.219999\n",
       "3 1990-01-05 00:00:00-06:00  20.110001\n",
       "4 1990-01-08 00:00:00-06:00  20.260000"
      ]
     },
     "execution_count": 7,
     "metadata": {},
     "output_type": "execute_result"
    }
   ],
   "source": [
    "vix.head()"
   ]
  },
  {
   "cell_type": "code",
   "execution_count": 8,
   "id": "9733ffa5",
   "metadata": {},
   "outputs": [
    {
     "data": {
      "text/plain": [
       "date     datetime64[ns, America/Chicago]\n",
       "close                            float64\n",
       "dtype: object"
      ]
     },
     "execution_count": 8,
     "metadata": {},
     "output_type": "execute_result"
    }
   ],
   "source": [
    "vix.dtypes"
   ]
  },
  {
   "cell_type": "code",
   "execution_count": 9,
   "id": "b70b0035",
   "metadata": {},
   "outputs": [],
   "source": [
    "vix['year'] = vix['date'].dt.year\n",
    "vix_annual = vix.groupby('year')['close'].mean()"
   ]
  },
  {
   "cell_type": "code",
   "execution_count": 10,
   "id": "6bf2e226",
   "metadata": {},
   "outputs": [
    {
     "data": {
      "text/plain": [
       "year\n",
       "1990    23.063478\n",
       "1991    18.384664\n",
       "1992    15.452047\n",
       "1993    12.686245\n",
       "1994    13.925516\n",
       "Name: close, dtype: float64"
      ]
     },
     "execution_count": 10,
     "metadata": {},
     "output_type": "execute_result"
    }
   ],
   "source": [
    "vix_annual.head()"
   ]
  },
  {
   "cell_type": "code",
   "execution_count": 11,
   "id": "d005f512",
   "metadata": {},
   "outputs": [
    {
     "data": {
      "image/png": "[encoded data removed]",
      "text/plain": [
       "<Figure size 640x480 with 1 Axes>"
      ]
     },
     "metadata": {},
     "output_type": "display_data"
    }
   ],
   "source": [
    "_ = sns.lineplot(x=vix_annual.index, y=vix_annual)"
   ]
  },
  {
   "cell_type": "code",
   "execution_count": 12,
   "id": "4240e0de",
   "metadata": {},
   "outputs": [
    {
     "name": "stderr",
     "output_type": "stream",
     "text": [
      "C:\\Users\\ivan\\AppData\\Local\\Temp\\ipykernel_20940\\971685479.py:1: UserWarning: Converting to PeriodArray/Index representation will drop timezone information.\n",
      "  vix[\"month_year\"] = vix['date'].dt.to_period('M')\n"
     ]
    }
   ],
   "source": [
    "vix[\"month_year\"] = vix['date'].dt.to_period('M')\n",
    "vix_monthly = vix.groupby('month_year')[\"close\"].mean()"
   ]
  },
  {
   "cell_type": "code",
   "execution_count": 13,
   "id": "04647616",
   "metadata": {},
   "outputs": [
    {
     "data": {
      "text/plain": [
       "month_year\n",
       "1990-01    23.347273\n",
       "1990-02    23.262632\n",
       "1990-03    20.062273\n",
       "1990-04    21.403500\n",
       "1990-05    18.097727\n",
       "Freq: M, Name: close, dtype: float64"
      ]
     },
     "execution_count": 13,
     "metadata": {},
     "output_type": "execute_result"
    }
   ],
   "source": [
    "vix_monthly.head()"
   ]
  },
  {
   "cell_type": "code",
   "execution_count": 14,
   "id": "fbc0bbce",
   "metadata": {},
   "outputs": [
    {
     "data": {
      "text/plain": [
       "PeriodIndex(['1990-01', '1990-02', '1990-03', '1990-04', '1990-05', '1990-06',\n",
       "             '1990-07', '1990-08', '1990-09', '1990-10',\n",
       "             ...\n",
       "             '2024-10', '2024-11', '2024-12', '2025-01', '2025-02', '2025-03',\n",
       "             '2025-04', '2025-05', '2025-06', '2025-07'],\n",
       "            dtype='period[M]', name='month_year', length=427)"
      ]
     },
     "execution_count": 14,
     "metadata": {},
     "output_type": "execute_result"
    }
   ],
   "source": [
    "vix_monthly.index"
   ]
  },
  {
   "cell_type": "code",
   "execution_count": 15,
   "id": "7202a8ca",
   "metadata": {},
   "outputs": [
    {
     "data": {
      "image/png": "[encoded data removed]",
      "text/plain": [
       "<Figure size 640x480 with 1 Axes>"
      ]
     },
     "metadata": {},
     "output_type": "display_data"
    }
   ],
   "source": [
    "_ = sns.lineplot(x=vix_monthly.index.to_timestamp(), y=vix_monthly)"
   ]
  },
  {
   "cell_type": "code",
   "execution_count": 16,
   "id": "e0c54deb",
   "metadata": {},
   "outputs": [
    {
     "data": {
      "image/png": "[encoded data removed]",
      "text/plain": [
       "<Figure size 640x480 with 1 Axes>"
      ]
     },
     "metadata": {},
     "output_type": "display_data"
    }
   ],
   "source": [
    "_ = sns.histplot(vix_monthly)"
   ]
  },
  {
   "cell_type": "code",
   "execution_count": 17,
   "id": "6b2a34c8",
   "metadata": {},
   "outputs": [
    {
     "name": "stderr",
     "output_type": "stream",
     "text": [
      "C:\\Users\\ivan\\AppData\\Local\\Temp\\ipykernel_20940\\4213936723.py:1: UserWarning: Converting to PeriodArray/Index representation will drop timezone information.\n",
      "  vix[\"week_year\"] = vix['date'].dt.to_period('W')\n"
     ]
    }
   ],
   "source": [
    "vix[\"week_year\"] = vix['date'].dt.to_period('W')\n",
    "vix_weekly = vix.groupby('week_year')[\"close\"].mean()"
   ]
  },
  {
   "cell_type": "code",
   "execution_count": 18,
   "id": "43dc59d5",
   "metadata": {},
   "outputs": [
    {
     "data": {
      "image/png": "[encoded data removed]",
      "text/plain": [
       "<Figure size 640x480 with 1 Axes>"
      ]
     },
     "metadata": {},
     "output_type": "display_data"
    }
   ],
   "source": [
    "_ = sns.lineplot(x=vix_weekly.index.to_timestamp(), y=vix_weekly)"
   ]
  },
  {
   "cell_type": "code",
   "execution_count": 19,
   "id": "6efc6362",
   "metadata": {},
   "outputs": [
    {
     "data": {
      "image/png": "[encoded data removed]",
      "text/plain": [
       "<Figure size 640x480 with 1 Axes>"
      ]
     },
     "metadata": {},
     "output_type": "display_data"
    }
   ],
   "source": [
    "_ = sns.histplot(vix_weekly)"
   ]
  },
  {
   "cell_type": "code",
   "execution_count": 20,
   "id": "272785cc",
   "metadata": {},
   "outputs": [
    {
     "data": {
      "text/plain": [
       "count    427.000000\n",
       "mean      19.490431\n",
       "std        7.451077\n",
       "min       10.125455\n",
       "25%       14.079048\n",
       "50%       17.687391\n",
       "75%       23.112644\n",
       "max       62.639473\n",
       "Name: close, dtype: float64"
      ]
     },
     "execution_count": 20,
     "metadata": {},
     "output_type": "execute_result"
    }
   ],
   "source": [
    "vix_monthly.describe()"
   ]
  },
  {
   "cell_type": "code",
   "execution_count": 21,
   "id": "108e8997",
   "metadata": {},
   "outputs": [
    {
     "data": {
      "text/plain": [
       "count    1854.000000\n",
       "mean       19.481312\n",
       "std         7.693650\n",
       "min         9.340000\n",
       "25%        13.934500\n",
       "50%        17.668250\n",
       "75%        22.693125\n",
       "max        74.618001\n",
       "Name: close, dtype: float64"
      ]
     },
     "execution_count": 21,
     "metadata": {},
     "output_type": "execute_result"
    }
   ],
   "source": [
    "vix_weekly.describe()"
   ]
  },
  {
   "cell_type": "code",
   "execution_count": 22,
   "id": "8a9baa33",
   "metadata": {},
   "outputs": [
    {
     "data": {
      "image/png": "[encoded data removed]",
      "text/plain": [
       "<Figure size 640x480 with 1 Axes>"
      ]
     },
     "metadata": {},
     "output_type": "display_data"
    }
   ],
   "source": [
    "_ = sns.histplot(vix['close'])"
   ]
  },
  {
   "cell_type": "code",
   "execution_count": 23,
   "id": "3c1839d6",
   "metadata": {},
   "outputs": [
    {
     "data": {
      "text/plain": [
       "count    8947.000000\n",
       "mean       19.490267\n",
       "std         7.826481\n",
       "min         9.140000\n",
       "25%        13.880000\n",
       "50%        17.660000\n",
       "75%        22.809999\n",
       "max        82.690002\n",
       "Name: close, dtype: float64"
      ]
     },
     "execution_count": 23,
     "metadata": {},
     "output_type": "execute_result"
    }
   ],
   "source": [
    "vix['close'].describe()"
   ]
  },
  {
   "cell_type": "code",
   "execution_count": 24,
   "id": "a5f3b108",
   "metadata": {},
   "outputs": [
    {
     "data": {
      "text/plain": [
       "np.float64(92.01725997842503)"
      ]
     },
     "execution_count": 24,
     "metadata": {},
     "output_type": "execute_result"
    }
   ],
   "source": [
    "stats.percentileofscore(vix_weekly, 30)"
   ]
  },
  {
   "cell_type": "code",
   "execution_count": 31,
   "id": "53e680de",
   "metadata": {},
   "outputs": [
    {
     "data": {
      "text/plain": [
       "np.float64(37.91801510248112)"
      ]
     },
     "execution_count": 31,
     "metadata": {},
     "output_type": "execute_result"
    }
   ],
   "source": [
    "100 - stats.percentileofscore(vix_weekly, 20)"
   ]
  },
  {
   "cell_type": "code",
   "execution_count": 25,
   "id": "a7dd3b06",
   "metadata": {},
   "outputs": [
    {
     "data": {
      "text/html": [
       "<div>\n",
       "<style scoped>\n",
       "    .dataframe tbody tr th:only-of-type {\n",
       "        vertical-align: middle;\n",
       "    }\n",
       "\n",
       "    .dataframe tbody tr th {\n",
       "        vertical-align: top;\n",
       "    }\n",
       "\n",
       "    .dataframe thead th {\n",
       "        text-align: right;\n",
       "    }\n",
       "</style>\n",
       "<table border=\"1\" class=\"dataframe\">\n",
       "  <thead>\n",
       "    <tr style=\"text-align: right;\">\n",
       "      <th></th>\n",
       "      <th>date</th>\n",
       "      <th>close</th>\n",
       "      <th>year</th>\n",
       "      <th>month_year</th>\n",
       "      <th>week_year</th>\n",
       "    </tr>\n",
       "  </thead>\n",
       "  <tbody>\n",
       "    <tr>\n",
       "      <th>0</th>\n",
       "      <td>1990-01-02 00:00:00-06:00</td>\n",
       "      <td>17.240000</td>\n",
       "      <td>1990</td>\n",
       "      <td>1990-01</td>\n",
       "      <td>1990-01-01/1990-01-07</td>\n",
       "    </tr>\n",
       "    <tr>\n",
       "      <th>1</th>\n",
       "      <td>1990-01-03 00:00:00-06:00</td>\n",
       "      <td>18.190001</td>\n",
       "      <td>1990</td>\n",
       "      <td>1990-01</td>\n",
       "      <td>1990-01-01/1990-01-07</td>\n",
       "    </tr>\n",
       "    <tr>\n",
       "      <th>2</th>\n",
       "      <td>1990-01-04 00:00:00-06:00</td>\n",
       "      <td>19.219999</td>\n",
       "      <td>1990</td>\n",
       "      <td>1990-01</td>\n",
       "      <td>1990-01-01/1990-01-07</td>\n",
       "    </tr>\n",
       "    <tr>\n",
       "      <th>3</th>\n",
       "      <td>1990-01-05 00:00:00-06:00</td>\n",
       "      <td>20.110001</td>\n",
       "      <td>1990</td>\n",
       "      <td>1990-01</td>\n",
       "      <td>1990-01-01/1990-01-07</td>\n",
       "    </tr>\n",
       "    <tr>\n",
       "      <th>4</th>\n",
       "      <td>1990-01-08 00:00:00-06:00</td>\n",
       "      <td>20.260000</td>\n",
       "      <td>1990</td>\n",
       "      <td>1990-01</td>\n",
       "      <td>1990-01-08/1990-01-14</td>\n",
       "    </tr>\n",
       "  </tbody>\n",
       "</table>\n",
       "</div>"
      ],
      "text/plain": [
       "                       date      close  year month_year              week_year\n",
       "0 1990-01-02 00:00:00-06:00  17.240000  1990    1990-01  1990-01-01/1990-01-07\n",
       "1 1990-01-03 00:00:00-06:00  18.190001  1990    1990-01  1990-01-01/1990-01-07\n",
       "2 1990-01-04 00:00:00-06:00  19.219999  1990    1990-01  1990-01-01/1990-01-07\n",
       "3 1990-01-05 00:00:00-06:00  20.110001  1990    1990-01  1990-01-01/1990-01-07\n",
       "4 1990-01-08 00:00:00-06:00  20.260000  1990    1990-01  1990-01-08/1990-01-14"
      ]
     },
     "execution_count": 25,
     "metadata": {},
     "output_type": "execute_result"
    }
   ],
   "source": [
    "vix.head()"
   ]
  },
  {
   "cell_type": "code",
   "execution_count": 26,
   "id": "09034ea1",
   "metadata": {},
   "outputs": [],
   "source": [
    "vix.to_csv(\"data/vix.csv\")"
   ]
  },
  {
   "cell_type": "code",
   "execution_count": 35,
   "id": "1ab1ade4",
   "metadata": {},
   "outputs": [],
   "source": [
    "start_date = \"1998-12-31\"\n",
    "end_date = \"2024-12-31\""
   ]
  },
  {
   "cell_type": "code",
   "execution_count": 33,
   "id": "76495c46",
   "metadata": {},
   "outputs": [],
   "source": [
    "high_volatility = pd.DataFrame({\"date\": vix_weekly.index, \"vix\": vix_weekly})"
   ]
  },
  {
   "cell_type": "code",
   "execution_count": 36,
   "id": "76c67bbc",
   "metadata": {},
   "outputs": [],
   "source": [
    "high_volatility = high_volatility[(high_volatility[\"date\"] >= start_date) &\n",
    "                                  (high_volatility[\"date\"] <= end_date)]"
   ]
  },
  {
   "cell_type": "code",
   "execution_count": 39,
   "id": "80a29a68",
   "metadata": {},
   "outputs": [],
   "source": [
    "high_volatility = high_volatility.reset_index(drop=True)"
   ]
  },
  {
   "cell_type": "code",
   "execution_count": 40,
   "id": "e00f7db8",
   "metadata": {},
   "outputs": [
    {
     "data": {
      "text/html": [
       "<div>\n",
       "<style scoped>\n",
       "    .dataframe tbody tr th:only-of-type {\n",
       "        vertical-align: middle;\n",
       "    }\n",
       "\n",
       "    .dataframe tbody tr th {\n",
       "        vertical-align: top;\n",
       "    }\n",
       "\n",
       "    .dataframe thead th {\n",
       "        text-align: right;\n",
       "    }\n",
       "</style>\n",
       "<table border=\"1\" class=\"dataframe\">\n",
       "  <thead>\n",
       "    <tr style=\"text-align: right;\">\n",
       "      <th></th>\n",
       "      <th>date</th>\n",
       "      <th>vix</th>\n",
       "    </tr>\n",
       "  </thead>\n",
       "  <tbody>\n",
       "    <tr>\n",
       "      <th>0</th>\n",
       "      <td>1998-12-28/1999-01-03</td>\n",
       "      <td>23.3600</td>\n",
       "    </tr>\n",
       "    <tr>\n",
       "      <th>1</th>\n",
       "      <td>1999-01-04/1999-01-10</td>\n",
       "      <td>24.3240</td>\n",
       "    </tr>\n",
       "    <tr>\n",
       "      <th>2</th>\n",
       "      <td>1999-01-11/1999-01-17</td>\n",
       "      <td>29.1780</td>\n",
       "    </tr>\n",
       "    <tr>\n",
       "      <th>3</th>\n",
       "      <td>1999-01-18/1999-01-24</td>\n",
       "      <td>30.1775</td>\n",
       "    </tr>\n",
       "    <tr>\n",
       "      <th>4</th>\n",
       "      <td>1999-01-25/1999-01-31</td>\n",
       "      <td>28.8900</td>\n",
       "    </tr>\n",
       "  </tbody>\n",
       "</table>\n",
       "</div>"
      ],
      "text/plain": [
       "                    date      vix\n",
       "0  1998-12-28/1999-01-03  23.3600\n",
       "1  1999-01-04/1999-01-10  24.3240\n",
       "2  1999-01-11/1999-01-17  29.1780\n",
       "3  1999-01-18/1999-01-24  30.1775\n",
       "4  1999-01-25/1999-01-31  28.8900"
      ]
     },
     "execution_count": 40,
     "metadata": {},
     "output_type": "execute_result"
    }
   ],
   "source": [
    "high_volatility.head()"
   ]
  },
  {
   "cell_type": "code",
   "execution_count": 44,
   "id": "738f9298",
   "metadata": {},
   "outputs": [],
   "source": [
    "high_volatility[\"volatile\"] = high_volatility[\"vix\"] >= 20"
   ]
  },
  {
   "cell_type": "code",
   "execution_count": 45,
   "id": "1fcfa8d0",
   "metadata": {},
   "outputs": [
    {
     "data": {
      "text/html": [
       "<div>\n",
       "<style scoped>\n",
       "    .dataframe tbody tr th:only-of-type {\n",
       "        vertical-align: middle;\n",
       "    }\n",
       "\n",
       "    .dataframe tbody tr th {\n",
       "        vertical-align: top;\n",
       "    }\n",
       "\n",
       "    .dataframe thead th {\n",
       "        text-align: right;\n",
       "    }\n",
       "</style>\n",
       "<table border=\"1\" class=\"dataframe\">\n",
       "  <thead>\n",
       "    <tr style=\"text-align: right;\">\n",
       "      <th></th>\n",
       "      <th>date</th>\n",
       "      <th>vix</th>\n",
       "      <th>volatile</th>\n",
       "    </tr>\n",
       "  </thead>\n",
       "  <tbody>\n",
       "    <tr>\n",
       "      <th>0</th>\n",
       "      <td>1998-12-28/1999-01-03</td>\n",
       "      <td>23.3600</td>\n",
       "      <td>True</td>\n",
       "    </tr>\n",
       "    <tr>\n",
       "      <th>1</th>\n",
       "      <td>1999-01-04/1999-01-10</td>\n",
       "      <td>24.3240</td>\n",
       "      <td>True</td>\n",
       "    </tr>\n",
       "    <tr>\n",
       "      <th>2</th>\n",
       "      <td>1999-01-11/1999-01-17</td>\n",
       "      <td>29.1780</td>\n",
       "      <td>True</td>\n",
       "    </tr>\n",
       "    <tr>\n",
       "      <th>3</th>\n",
       "      <td>1999-01-18/1999-01-24</td>\n",
       "      <td>30.1775</td>\n",
       "      <td>True</td>\n",
       "    </tr>\n",
       "    <tr>\n",
       "      <th>4</th>\n",
       "      <td>1999-01-25/1999-01-31</td>\n",
       "      <td>28.8900</td>\n",
       "      <td>True</td>\n",
       "    </tr>\n",
       "    <tr>\n",
       "      <th>...</th>\n",
       "      <td>...</td>\n",
       "      <td>...</td>\n",
       "      <td>...</td>\n",
       "    </tr>\n",
       "    <tr>\n",
       "      <th>1353</th>\n",
       "      <td>2024-12-02/2024-12-08</td>\n",
       "      <td>13.2800</td>\n",
       "      <td>False</td>\n",
       "    </tr>\n",
       "    <tr>\n",
       "      <th>1354</th>\n",
       "      <td>2024-12-09/2024-12-15</td>\n",
       "      <td>13.9360</td>\n",
       "      <td>False</td>\n",
       "    </tr>\n",
       "    <tr>\n",
       "      <th>1355</th>\n",
       "      <td>2024-12-16/2024-12-22</td>\n",
       "      <td>20.1260</td>\n",
       "      <td>True</td>\n",
       "    </tr>\n",
       "    <tr>\n",
       "      <th>1356</th>\n",
       "      <td>2024-12-23/2024-12-29</td>\n",
       "      <td>15.4325</td>\n",
       "      <td>False</td>\n",
       "    </tr>\n",
       "    <tr>\n",
       "      <th>1357</th>\n",
       "      <td>2024-12-30/2025-01-05</td>\n",
       "      <td>17.2025</td>\n",
       "      <td>False</td>\n",
       "    </tr>\n",
       "  </tbody>\n",
       "</table>\n",
       "<p>1358 rows × 3 columns</p>\n",
       "</div>"
      ],
      "text/plain": [
       "                       date      vix  volatile\n",
       "0     1998-12-28/1999-01-03  23.3600      True\n",
       "1     1999-01-04/1999-01-10  24.3240      True\n",
       "2     1999-01-11/1999-01-17  29.1780      True\n",
       "3     1999-01-18/1999-01-24  30.1775      True\n",
       "4     1999-01-25/1999-01-31  28.8900      True\n",
       "...                     ...      ...       ...\n",
       "1353  2024-12-02/2024-12-08  13.2800     False\n",
       "1354  2024-12-09/2024-12-15  13.9360     False\n",
       "1355  2024-12-16/2024-12-22  20.1260      True\n",
       "1356  2024-12-23/2024-12-29  15.4325     False\n",
       "1357  2024-12-30/2025-01-05  17.2025     False\n",
       "\n",
       "[1358 rows x 3 columns]"
      ]
     },
     "execution_count": 45,
     "metadata": {},
     "output_type": "execute_result"
    }
   ],
   "source": [
    "high_volatility"
   ]
  },
  {
   "cell_type": "code",
   "execution_count": null,
   "id": "df092893",
   "metadata": {},
   "outputs": [],
   "source": [
    "_ = sns.lineplot(data=high_volatility, )"
   ]
  }
 ],
 "metadata": {
  "kernelspec": {
   "display_name": "py313",
   "language": "python",
   "name": "python3"
  },
  "language_info": {
   "codemirror_mode": {
    "name": "ipython",
    "version": 3
   },
   "file_extension": ".py",
   "mimetype": "text/x-python",
   "name": "python",
   "nbconvert_exporter": "python",
   "pygments_lexer": "ipython3",
   "version": "3.13.2"
  }
 },
 "nbformat": 4,
 "nbformat_minor": 5
}
