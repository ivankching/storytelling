{
 "cells": [
  {
   "cell_type": "code",
   "execution_count": 1,
   "id": "9ecf6d4e",
   "metadata": {},
   "outputs": [],
   "source": [
    "import datetime\n",
    "import seaborn as sns\n",
    "import matplotlib.pyplot as plt\n",
    "import pandas as pd"
   ]
  },
  {
   "cell_type": "code",
   "execution_count": 2,
   "id": "f05623e3",
   "metadata": {},
   "outputs": [],
   "source": [
    "active_tickers = [\n",
    "#    \"RWMGX\",\n",
    "    \"AWSHX\",\n",
    "#    \"RICGX\",\n",
    "    \"ANCFX\",\n",
    "    \"AIVSX\",\n",
    "#    \"FCTDX\",\n",
    "#    \"RFNGX\",\n",
    "#    \"FCLKX\",\n",
    "#    \"FSAKX\",\n",
    "    \"VPMCX\",\n",
    "    \"LCCAX\",\n",
    "    \"FRDPX\",\n",
    "#    \"GQLIX\",\n",
    "    \"HAIAX\",\n",
    "    \"MSIGX\",\n",
    "#    \"JUEAX\",\n",
    "#    \"JDEAX\",\n",
    "    \"PRBLX\",\n",
    "#    \"RTLAX\",\n",
    "#    \"CMEUX\",\n",
    "#    \"CUSUX\",\n",
    "    \"PRDGX\",\n",
    "    \"PRCOX\",\n",
    "    \"VHCOX\",\n",
    "    \"VDIGX\",\n",
    "    \"VQNPX\",\n",
    "#    \"BTCLX\"\n",
    "]"
   ]
  },
  {
   "cell_type": "code",
   "execution_count": 3,
   "id": "fe81a45f",
   "metadata": {},
   "outputs": [],
   "source": [
    "vix = pd.read_csv(\"data/vix.csv\")\n",
    "spx = pd.read_csv(\"data/spx.csv\")\n",
    "active = pd.read_csv(\"data/active.csv\")"
   ]
  },
  {
   "cell_type": "code",
   "execution_count": 4,
   "id": "bb1195b4",
   "metadata": {},
   "outputs": [],
   "source": [
    "start_date = \"1998-12-31\"\n",
    "end_date = \"2024-12-31\"\n",
    "vix = vix[(vix[\"date\"] >= start_date) & (vix[\"date\"] <= end_date)]\n",
    "spx = spx[(spx[\"date\"] >= start_date) & (spx[\"date\"] <= end_date)]\n",
    "active = active[(active[\"date\"] >= start_date) & (active[\"date\"] <= end_date)]"
   ]
  },
  {
   "cell_type": "code",
   "execution_count": 5,
   "id": "77c75ee6",
   "metadata": {},
   "outputs": [],
   "source": [
    "spx_monthly = spx.groupby('month_year')[\"close\"].last()\n",
    "spx_monthly_returns = spx_monthly.pct_change()"
   ]
  },
  {
   "cell_type": "code",
   "execution_count": 6,
   "id": "9bfd29ed",
   "metadata": {},
   "outputs": [],
   "source": [
    "vix_monthly = vix.groupby('month_year')[\"close\"].mean()"
   ]
  },
  {
   "cell_type": "code",
   "execution_count": 7,
   "id": "e8ac9dd1",
   "metadata": {},
   "outputs": [],
   "source": [
    "active_monthly = active.groupby('month_year').last().drop(columns=['date']).reset_index()\n",
    "active_monthly_returns = active_monthly[active_tickers].pct_change()\n",
    "active_monthly_returns[\"month_year\"] = active_monthly[\"month_year\"]"
   ]
  },
  {
   "cell_type": "code",
   "execution_count": 8,
   "id": "54f7c778",
   "metadata": {},
   "outputs": [
    {
     "data": {
      "text/html": [
       "<div>\n",
       "<style scoped>\n",
       "    .dataframe tbody tr th:only-of-type {\n",
       "        vertical-align: middle;\n",
       "    }\n",
       "\n",
       "    .dataframe tbody tr th {\n",
       "        vertical-align: top;\n",
       "    }\n",
       "\n",
       "    .dataframe thead th {\n",
       "        text-align: right;\n",
       "    }\n",
       "</style>\n",
       "<table border=\"1\" class=\"dataframe\">\n",
       "  <thead>\n",
       "    <tr style=\"text-align: right;\">\n",
       "      <th></th>\n",
       "      <th>AWSHX</th>\n",
       "      <th>ANCFX</th>\n",
       "      <th>AIVSX</th>\n",
       "      <th>VPMCX</th>\n",
       "      <th>LCCAX</th>\n",
       "      <th>FRDPX</th>\n",
       "      <th>HAIAX</th>\n",
       "      <th>MSIGX</th>\n",
       "      <th>PRBLX</th>\n",
       "      <th>PRDGX</th>\n",
       "      <th>PRCOX</th>\n",
       "      <th>VHCOX</th>\n",
       "      <th>VDIGX</th>\n",
       "      <th>VQNPX</th>\n",
       "      <th>month_year</th>\n",
       "    </tr>\n",
       "  </thead>\n",
       "  <tbody>\n",
       "    <tr>\n",
       "      <th>0</th>\n",
       "      <td>NaN</td>\n",
       "      <td>NaN</td>\n",
       "      <td>NaN</td>\n",
       "      <td>NaN</td>\n",
       "      <td>NaN</td>\n",
       "      <td>NaN</td>\n",
       "      <td>NaN</td>\n",
       "      <td>NaN</td>\n",
       "      <td>NaN</td>\n",
       "      <td>NaN</td>\n",
       "      <td>NaN</td>\n",
       "      <td>NaN</td>\n",
       "      <td>NaN</td>\n",
       "      <td>NaN</td>\n",
       "      <td>1998-12</td>\n",
       "    </tr>\n",
       "    <tr>\n",
       "      <th>1</th>\n",
       "      <td>-0.009419</td>\n",
       "      <td>0.034578</td>\n",
       "      <td>0.030576</td>\n",
       "      <td>0.072807</td>\n",
       "      <td>0.012203</td>\n",
       "      <td>-0.052677</td>\n",
       "      <td>0.032314</td>\n",
       "      <td>0.022801</td>\n",
       "      <td>0.055142</td>\n",
       "      <td>-0.024988</td>\n",
       "      <td>-0.001105</td>\n",
       "      <td>0.089672</td>\n",
       "      <td>-0.016324</td>\n",
       "      <td>0.059817</td>\n",
       "      <td>1999-01</td>\n",
       "    </tr>\n",
       "    <tr>\n",
       "      <th>2</th>\n",
       "      <td>-0.011043</td>\n",
       "      <td>-0.015251</td>\n",
       "      <td>-0.021237</td>\n",
       "      <td>-0.054762</td>\n",
       "      <td>-0.019670</td>\n",
       "      <td>-0.035426</td>\n",
       "      <td>-0.036379</td>\n",
       "      <td>-0.035767</td>\n",
       "      <td>-0.059322</td>\n",
       "      <td>-0.015844</td>\n",
       "      <td>-0.035931</td>\n",
       "      <td>-0.074945</td>\n",
       "      <td>-0.027044</td>\n",
       "      <td>-0.032821</td>\n",
       "      <td>1999-02</td>\n",
       "    </tr>\n",
       "    <tr>\n",
       "      <th>3</th>\n",
       "      <td>0.022982</td>\n",
       "      <td>0.045897</td>\n",
       "      <td>0.019667</td>\n",
       "      <td>0.044807</td>\n",
       "      <td>0.039021</td>\n",
       "      <td>-0.006385</td>\n",
       "      <td>0.048288</td>\n",
       "      <td>0.041672</td>\n",
       "      <td>0.012351</td>\n",
       "      <td>0.011820</td>\n",
       "      <td>-0.009174</td>\n",
       "      <td>0.064337</td>\n",
       "      <td>-0.004493</td>\n",
       "      <td>0.020298</td>\n",
       "      <td>1999-03</td>\n",
       "    </tr>\n",
       "    <tr>\n",
       "      <th>4</th>\n",
       "      <td>0.075213</td>\n",
       "      <td>0.068816</td>\n",
       "      <td>0.052013</td>\n",
       "      <td>0.040706</td>\n",
       "      <td>0.039301</td>\n",
       "      <td>0.077392</td>\n",
       "      <td>0.037689</td>\n",
       "      <td>0.034172</td>\n",
       "      <td>0.043112</td>\n",
       "      <td>0.060907</td>\n",
       "      <td>0.010417</td>\n",
       "      <td>0.064925</td>\n",
       "      <td>0.051601</td>\n",
       "      <td>0.038546</td>\n",
       "      <td>1999-04</td>\n",
       "    </tr>\n",
       "  </tbody>\n",
       "</table>\n",
       "</div>"
      ],
      "text/plain": [
       "      AWSHX     ANCFX     AIVSX     VPMCX     LCCAX     FRDPX     HAIAX  \\\n",
       "0       NaN       NaN       NaN       NaN       NaN       NaN       NaN   \n",
       "1 -0.009419  0.034578  0.030576  0.072807  0.012203 -0.052677  0.032314   \n",
       "2 -0.011043 -0.015251 -0.021237 -0.054762 -0.019670 -0.035426 -0.036379   \n",
       "3  0.022982  0.045897  0.019667  0.044807  0.039021 -0.006385  0.048288   \n",
       "4  0.075213  0.068816  0.052013  0.040706  0.039301  0.077392  0.037689   \n",
       "\n",
       "      MSIGX     PRBLX     PRDGX     PRCOX     VHCOX     VDIGX     VQNPX  \\\n",
       "0       NaN       NaN       NaN       NaN       NaN       NaN       NaN   \n",
       "1  0.022801  0.055142 -0.024988 -0.001105  0.089672 -0.016324  0.059817   \n",
       "2 -0.035767 -0.059322 -0.015844 -0.035931 -0.074945 -0.027044 -0.032821   \n",
       "3  0.041672  0.012351  0.011820 -0.009174  0.064337 -0.004493  0.020298   \n",
       "4  0.034172  0.043112  0.060907  0.010417  0.064925  0.051601  0.038546   \n",
       "\n",
       "  month_year  \n",
       "0    1998-12  \n",
       "1    1999-01  \n",
       "2    1999-02  \n",
       "3    1999-03  \n",
       "4    1999-04  "
      ]
     },
     "execution_count": 8,
     "metadata": {},
     "output_type": "execute_result"
    }
   ],
   "source": [
    "active_monthly_returns.head()"
   ]
  },
  {
   "cell_type": "code",
   "execution_count": 9,
   "id": "a36cd940",
   "metadata": {},
   "outputs": [],
   "source": [
    "active_monthly_returns_mean = active_monthly_returns[active_tickers].mean(axis=1)"
   ]
  },
  {
   "cell_type": "code",
   "execution_count": 10,
   "id": "b90a0492",
   "metadata": {},
   "outputs": [],
   "source": [
    "active_monthly_returns_mean.index = active_monthly_returns[\"month_year\"]"
   ]
  },
  {
   "cell_type": "code",
   "execution_count": 11,
   "id": "7444ce44",
   "metadata": {},
   "outputs": [
    {
     "data": {
      "text/plain": [
       "month_year\n",
       "1998-12         NaN\n",
       "1999-01    0.021814\n",
       "1999-02   -0.033960\n",
       "1999-03    0.025078\n",
       "1999-04    0.049629\n",
       "dtype: float64"
      ]
     },
     "execution_count": 11,
     "metadata": {},
     "output_type": "execute_result"
    }
   ],
   "source": [
    "active_monthly_returns_mean.head()"
   ]
  },
  {
   "cell_type": "code",
   "execution_count": 12,
   "id": "37578d05",
   "metadata": {},
   "outputs": [
    {
     "data": {
      "text/plain": [
       "month_year\n",
       "1998-12    24.420000\n",
       "1999-01    28.035263\n",
       "1999-02    28.822632\n",
       "1999-03    25.309565\n",
       "1999-04    23.478571\n",
       "Name: close, dtype: float64"
      ]
     },
     "execution_count": 12,
     "metadata": {},
     "output_type": "execute_result"
    }
   ],
   "source": [
    "vix_monthly.head()"
   ]
  },
  {
   "cell_type": "code",
   "execution_count": 13,
   "id": "5acc62e5",
   "metadata": {},
   "outputs": [
    {
     "data": {
      "text/plain": [
       "month_year\n",
       "1998-12         NaN\n",
       "1999-01    0.041009\n",
       "1999-02   -0.032283\n",
       "1999-03    0.038794\n",
       "1999-04    0.037944\n",
       "Name: close, dtype: float64"
      ]
     },
     "execution_count": 13,
     "metadata": {},
     "output_type": "execute_result"
    }
   ],
   "source": [
    "spx_monthly_returns.head()"
   ]
  },
  {
   "cell_type": "code",
   "execution_count": 14,
   "id": "56b69dc1",
   "metadata": {},
   "outputs": [],
   "source": [
    "combined_monthly = pd.DataFrame({\"vix\": vix_monthly,\n",
    "                                 \"spx\": spx_monthly_returns,\n",
    "                                 \"active\": active_monthly_returns_mean})"
   ]
  },
  {
   "cell_type": "code",
   "execution_count": 15,
   "id": "0f69dcc7",
   "metadata": {},
   "outputs": [
    {
     "data": {
      "text/html": [
       "<div>\n",
       "<style scoped>\n",
       "    .dataframe tbody tr th:only-of-type {\n",
       "        vertical-align: middle;\n",
       "    }\n",
       "\n",
       "    .dataframe tbody tr th {\n",
       "        vertical-align: top;\n",
       "    }\n",
       "\n",
       "    .dataframe thead th {\n",
       "        text-align: right;\n",
       "    }\n",
       "</style>\n",
       "<table border=\"1\" class=\"dataframe\">\n",
       "  <thead>\n",
       "    <tr style=\"text-align: right;\">\n",
       "      <th></th>\n",
       "      <th>vix</th>\n",
       "      <th>spx</th>\n",
       "      <th>active</th>\n",
       "    </tr>\n",
       "    <tr>\n",
       "      <th>month_year</th>\n",
       "      <th></th>\n",
       "      <th></th>\n",
       "      <th></th>\n",
       "    </tr>\n",
       "  </thead>\n",
       "  <tbody>\n",
       "    <tr>\n",
       "      <th>1998-12</th>\n",
       "      <td>24.420000</td>\n",
       "      <td>NaN</td>\n",
       "      <td>NaN</td>\n",
       "    </tr>\n",
       "    <tr>\n",
       "      <th>1999-01</th>\n",
       "      <td>28.035263</td>\n",
       "      <td>0.041009</td>\n",
       "      <td>0.021814</td>\n",
       "    </tr>\n",
       "    <tr>\n",
       "      <th>1999-02</th>\n",
       "      <td>28.822632</td>\n",
       "      <td>-0.032283</td>\n",
       "      <td>-0.033960</td>\n",
       "    </tr>\n",
       "    <tr>\n",
       "      <th>1999-03</th>\n",
       "      <td>25.309565</td>\n",
       "      <td>0.038794</td>\n",
       "      <td>0.025078</td>\n",
       "    </tr>\n",
       "    <tr>\n",
       "      <th>1999-04</th>\n",
       "      <td>23.478571</td>\n",
       "      <td>0.037944</td>\n",
       "      <td>0.049629</td>\n",
       "    </tr>\n",
       "  </tbody>\n",
       "</table>\n",
       "</div>"
      ],
      "text/plain": [
       "                  vix       spx    active\n",
       "month_year                               \n",
       "1998-12     24.420000       NaN       NaN\n",
       "1999-01     28.035263  0.041009  0.021814\n",
       "1999-02     28.822632 -0.032283 -0.033960\n",
       "1999-03     25.309565  0.038794  0.025078\n",
       "1999-04     23.478571  0.037944  0.049629"
      ]
     },
     "execution_count": 15,
     "metadata": {},
     "output_type": "execute_result"
    }
   ],
   "source": [
    "combined_monthly.head()"
   ]
  },
  {
   "cell_type": "code",
   "execution_count": 16,
   "id": "9252cc84",
   "metadata": {},
   "outputs": [
    {
     "data": {
      "text/plain": [
       "vix       20.063053\n",
       "spx        0.006017\n",
       "active     0.008020\n",
       "dtype: float64"
      ]
     },
     "execution_count": 16,
     "metadata": {},
     "output_type": "execute_result"
    }
   ],
   "source": [
    "combined_monthly.mean()"
   ]
  },
  {
   "cell_type": "code",
   "execution_count": 17,
   "id": "71f6430d",
   "metadata": {},
   "outputs": [
    {
     "data": {
      "text/html": [
       "<div>\n",
       "<style scoped>\n",
       "    .dataframe tbody tr th:only-of-type {\n",
       "        vertical-align: middle;\n",
       "    }\n",
       "\n",
       "    .dataframe tbody tr th {\n",
       "        vertical-align: top;\n",
       "    }\n",
       "\n",
       "    .dataframe thead th {\n",
       "        text-align: right;\n",
       "    }\n",
       "</style>\n",
       "<table border=\"1\" class=\"dataframe\">\n",
       "  <thead>\n",
       "    <tr style=\"text-align: right;\">\n",
       "      <th></th>\n",
       "      <th>vix</th>\n",
       "      <th>spx</th>\n",
       "      <th>active</th>\n",
       "    </tr>\n",
       "  </thead>\n",
       "  <tbody>\n",
       "    <tr>\n",
       "      <th>count</th>\n",
       "      <td>129.000000</td>\n",
       "      <td>128.000000</td>\n",
       "      <td>128.000000</td>\n",
       "    </tr>\n",
       "    <tr>\n",
       "      <th>mean</th>\n",
       "      <td>27.123090</td>\n",
       "      <td>-0.002524</td>\n",
       "      <td>0.000412</td>\n",
       "    </tr>\n",
       "    <tr>\n",
       "      <th>std</th>\n",
       "      <td>7.702183</td>\n",
       "      <td>0.057772</td>\n",
       "      <td>0.053475</td>\n",
       "    </tr>\n",
       "    <tr>\n",
       "      <th>min</th>\n",
       "      <td>20.062105</td>\n",
       "      <td>-0.169425</td>\n",
       "      <td>-0.167853</td>\n",
       "    </tr>\n",
       "    <tr>\n",
       "      <th>25%</th>\n",
       "      <td>22.464737</td>\n",
       "      <td>-0.042841</td>\n",
       "      <td>-0.036829</td>\n",
       "    </tr>\n",
       "    <tr>\n",
       "      <th>50%</th>\n",
       "      <td>24.926667</td>\n",
       "      <td>-0.003209</td>\n",
       "      <td>0.000444</td>\n",
       "    </tr>\n",
       "    <tr>\n",
       "      <th>75%</th>\n",
       "      <td>28.496818</td>\n",
       "      <td>0.039919</td>\n",
       "      <td>0.039175</td>\n",
       "    </tr>\n",
       "    <tr>\n",
       "      <th>max</th>\n",
       "      <td>62.639473</td>\n",
       "      <td>0.126844</td>\n",
       "      <td>0.113850</td>\n",
       "    </tr>\n",
       "  </tbody>\n",
       "</table>\n",
       "</div>"
      ],
      "text/plain": [
       "              vix         spx      active\n",
       "count  129.000000  128.000000  128.000000\n",
       "mean    27.123090   -0.002524    0.000412\n",
       "std      7.702183    0.057772    0.053475\n",
       "min     20.062105   -0.169425   -0.167853\n",
       "25%     22.464737   -0.042841   -0.036829\n",
       "50%     24.926667   -0.003209    0.000444\n",
       "75%     28.496818    0.039919    0.039175\n",
       "max     62.639473    0.126844    0.113850"
      ]
     },
     "execution_count": 17,
     "metadata": {},
     "output_type": "execute_result"
    }
   ],
   "source": [
    "high_volatility_months = combined_monthly[combined_monthly[\"vix\"] >= 20]\n",
    "high_volatility_months.describe()"
   ]
  },
  {
   "cell_type": "code",
   "execution_count": null,
   "id": "9e2f489a",
   "metadata": {},
   "outputs": [],
   "source": []
  }
 ],
 "metadata": {
  "kernelspec": {
   "display_name": "py313",
   "language": "python",
   "name": "python3"
  },
  "language_info": {
   "codemirror_mode": {
    "name": "ipython",
    "version": 3
   },
   "file_extension": ".py",
   "mimetype": "text/x-python",
   "name": "python",
   "nbconvert_exporter": "python",
   "pygments_lexer": "ipython3",
   "version": "3.13.2"
  }
 },
 "nbformat": 4,
 "nbformat_minor": 5
}
