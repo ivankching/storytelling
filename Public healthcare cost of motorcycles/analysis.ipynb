{
 "cells": [
  {
   "cell_type": "code",
   "execution_count": 1,
   "id": "10994866",
   "metadata": {},
   "outputs": [],
   "source": [
    "import pandas as pd\n",
    "import numpy as np\n",
    "import matplotlib.pyplot as plt\n",
    "import seaborn as sns\n",
    "from scipy.stats import sem"
   ]
  },
  {
   "cell_type": "code",
   "execution_count": 2,
   "id": "c71cbf70",
   "metadata": {},
   "outputs": [],
   "source": [
    "pd.set_option('display.float_format', lambda x: '%.5f' % x)"
   ]
  },
  {
   "cell_type": "code",
   "execution_count": 3,
   "id": "762ecd06",
   "metadata": {},
   "outputs": [],
   "source": [
    "acute_cost = pd.read_csv(\"data/Motor accident acute care cost.csv\")"
   ]
  },
  {
   "cell_type": "code",
   "execution_count": 4,
   "id": "4d9a75a9",
   "metadata": {},
   "outputs": [
    {
     "data": {
      "text/html": [
       "<div>\n",
       "<style scoped>\n",
       "    .dataframe tbody tr th:only-of-type {\n",
       "        vertical-align: middle;\n",
       "    }\n",
       "\n",
       "    .dataframe tbody tr th {\n",
       "        vertical-align: top;\n",
       "    }\n",
       "\n",
       "    .dataframe thead th {\n",
       "        text-align: right;\n",
       "    }\n",
       "</style>\n",
       "<table border=\"1\" class=\"dataframe\">\n",
       "  <thead>\n",
       "    <tr style=\"text-align: right;\">\n",
       "      <th></th>\n",
       "      <th>Duration</th>\n",
       "      <th>Frequency</th>\n",
       "      <th>Percentage</th>\n",
       "      <th>Total Cost</th>\n",
       "      <th>Average Cost</th>\n",
       "    </tr>\n",
       "  </thead>\n",
       "  <tbody>\n",
       "    <tr>\n",
       "      <th>0</th>\n",
       "      <td>1-10</td>\n",
       "      <td>427</td>\n",
       "      <td>84.20000</td>\n",
       "      <td>1356912</td>\n",
       "      <td>3177</td>\n",
       "    </tr>\n",
       "    <tr>\n",
       "      <th>1</th>\n",
       "      <td>11-20</td>\n",
       "      <td>60</td>\n",
       "      <td>11.80000</td>\n",
       "      <td>553742</td>\n",
       "      <td>9229</td>\n",
       "    </tr>\n",
       "    <tr>\n",
       "      <th>2</th>\n",
       "      <td>21-30</td>\n",
       "      <td>12</td>\n",
       "      <td>2.40000</td>\n",
       "      <td>174290</td>\n",
       "      <td>14524</td>\n",
       "    </tr>\n",
       "    <tr>\n",
       "      <th>3</th>\n",
       "      <td>31-40</td>\n",
       "      <td>4</td>\n",
       "      <td>0.80000</td>\n",
       "      <td>77384</td>\n",
       "      <td>19346</td>\n",
       "    </tr>\n",
       "    <tr>\n",
       "      <th>4</th>\n",
       "      <td>41-50</td>\n",
       "      <td>2</td>\n",
       "      <td>0.40000</td>\n",
       "      <td>62310</td>\n",
       "      <td>31155</td>\n",
       "    </tr>\n",
       "  </tbody>\n",
       "</table>\n",
       "</div>"
      ],
      "text/plain": [
       "  Duration  Frequency  Percentage  Total Cost  Average Cost\n",
       "0     1-10        427    84.20000     1356912          3177\n",
       "1    11-20         60    11.80000      553742          9229\n",
       "2    21-30         12     2.40000      174290         14524\n",
       "3    31-40          4     0.80000       77384         19346\n",
       "4    41-50          2     0.40000       62310         31155"
      ]
     },
     "execution_count": 4,
     "metadata": {},
     "output_type": "execute_result"
    }
   ],
   "source": [
    "acute_cost.head()"
   ]
  },
  {
   "cell_type": "code",
   "execution_count": 5,
   "id": "8a0fb9e1",
   "metadata": {},
   "outputs": [
    {
     "data": {
      "text/plain": [
       "np.float64(4518.031558185405)"
      ]
     },
     "execution_count": 5,
     "metadata": {},
     "output_type": "execute_result"
    }
   ],
   "source": [
    "total_average_cost = acute_cost[\"Total Cost\"].sum() / acute_cost[\"Frequency\"].sum()\n",
    "total_average_cost"
   ]
  },
  {
   "cell_type": "code",
   "execution_count": 6,
   "id": "099767d9",
   "metadata": {},
   "outputs": [],
   "source": [
    "vehicles = pd.read_csv(\"data/Vehicles involved.csv\", index_col=\"Year\")"
   ]
  },
  {
   "cell_type": "code",
   "execution_count": 7,
   "id": "688ec578",
   "metadata": {},
   "outputs": [
    {
     "data": {
      "text/plain": [
       "(10, 8)"
      ]
     },
     "execution_count": 7,
     "metadata": {},
     "output_type": "execute_result"
    }
   ],
   "source": [
    "vehicles.shape"
   ]
  },
  {
   "cell_type": "code",
   "execution_count": 8,
   "id": "a2a8a848",
   "metadata": {},
   "outputs": [],
   "source": [
    "vehicles = vehicles.sort_index(axis=1)"
   ]
  },
  {
   "cell_type": "code",
   "execution_count": 9,
   "id": "9399148b",
   "metadata": {},
   "outputs": [
    {
     "data": {
      "text/html": [
       "<div>\n",
       "<style scoped>\n",
       "    .dataframe tbody tr th:only-of-type {\n",
       "        vertical-align: middle;\n",
       "    }\n",
       "\n",
       "    .dataframe tbody tr th {\n",
       "        vertical-align: top;\n",
       "    }\n",
       "\n",
       "    .dataframe thead th {\n",
       "        text-align: right;\n",
       "    }\n",
       "</style>\n",
       "<table border=\"1\" class=\"dataframe\">\n",
       "  <thead>\n",
       "    <tr style=\"text-align: right;\">\n",
       "      <th></th>\n",
       "      <th>Bicycle</th>\n",
       "      <th>Bus</th>\n",
       "      <th>Car</th>\n",
       "      <th>Four-Wheel Drive</th>\n",
       "      <th>Lorry</th>\n",
       "      <th>Motorcycle</th>\n",
       "      <th>Others</th>\n",
       "      <th>Van</th>\n",
       "    </tr>\n",
       "    <tr>\n",
       "      <th>Year</th>\n",
       "      <th></th>\n",
       "      <th></th>\n",
       "      <th></th>\n",
       "      <th></th>\n",
       "      <th></th>\n",
       "      <th></th>\n",
       "      <th></th>\n",
       "      <th></th>\n",
       "    </tr>\n",
       "  </thead>\n",
       "  <tbody>\n",
       "    <tr>\n",
       "      <th>2002</th>\n",
       "      <td>3278</td>\n",
       "      <td>9256</td>\n",
       "      <td>320649</td>\n",
       "      <td>14783</td>\n",
       "      <td>37794</td>\n",
       "      <td>86779</td>\n",
       "      <td>10043</td>\n",
       "      <td>19077</td>\n",
       "    </tr>\n",
       "    <tr>\n",
       "      <th>2003</th>\n",
       "      <td>2993</td>\n",
       "      <td>9673</td>\n",
       "      <td>351832</td>\n",
       "      <td>16429</td>\n",
       "      <td>42753</td>\n",
       "      <td>95545</td>\n",
       "      <td>9500</td>\n",
       "      <td>20277</td>\n",
       "    </tr>\n",
       "    <tr>\n",
       "      <th>2004</th>\n",
       "      <td>2963</td>\n",
       "      <td>9265</td>\n",
       "      <td>388589</td>\n",
       "      <td>18306</td>\n",
       "      <td>45420</td>\n",
       "      <td>99227</td>\n",
       "      <td>11186</td>\n",
       "      <td>20086</td>\n",
       "    </tr>\n",
       "    <tr>\n",
       "      <th>2005</th>\n",
       "      <td>2751</td>\n",
       "      <td>8594</td>\n",
       "      <td>376061</td>\n",
       "      <td>19106</td>\n",
       "      <td>42062</td>\n",
       "      <td>97072</td>\n",
       "      <td>9362</td>\n",
       "      <td>19085</td>\n",
       "    </tr>\n",
       "    <tr>\n",
       "      <th>2006</th>\n",
       "      <td>2834</td>\n",
       "      <td>9700</td>\n",
       "      <td>411444</td>\n",
       "      <td>20885</td>\n",
       "      <td>44767</td>\n",
       "      <td>104107</td>\n",
       "      <td>12266</td>\n",
       "      <td>20428</td>\n",
       "    </tr>\n",
       "    <tr>\n",
       "      <th>2007</th>\n",
       "      <td>2690</td>\n",
       "      <td>10285</td>\n",
       "      <td>426941</td>\n",
       "      <td>21823</td>\n",
       "      <td>47696</td>\n",
       "      <td>111765</td>\n",
       "      <td>14909</td>\n",
       "      <td>21109</td>\n",
       "    </tr>\n",
       "    <tr>\n",
       "      <th>2008</th>\n",
       "      <td>2463</td>\n",
       "      <td>9356</td>\n",
       "      <td>435665</td>\n",
       "      <td>22793</td>\n",
       "      <td>48250</td>\n",
       "      <td>111819</td>\n",
       "      <td>11571</td>\n",
       "      <td>20392</td>\n",
       "    </tr>\n",
       "    <tr>\n",
       "      <th>2009</th>\n",
       "      <td>2486</td>\n",
       "      <td>9380</td>\n",
       "      <td>472307</td>\n",
       "      <td>23581</td>\n",
       "      <td>46724</td>\n",
       "      <td>113962</td>\n",
       "      <td>9294</td>\n",
       "      <td>19220</td>\n",
       "    </tr>\n",
       "    <tr>\n",
       "      <th>2010</th>\n",
       "      <td>2178</td>\n",
       "      <td>9580</td>\n",
       "      <td>511861</td>\n",
       "      <td>25777</td>\n",
       "      <td>50438</td>\n",
       "      <td>120156</td>\n",
       "      <td>11756</td>\n",
       "      <td>18788</td>\n",
       "    </tr>\n",
       "    <tr>\n",
       "      <th>2011</th>\n",
       "      <td>2033</td>\n",
       "      <td>9986</td>\n",
       "      <td>546702</td>\n",
       "      <td>30828</td>\n",
       "      <td>53078</td>\n",
       "      <td>129017</td>\n",
       "      <td>16394</td>\n",
       "      <td>17916</td>\n",
       "    </tr>\n",
       "  </tbody>\n",
       "</table>\n",
       "</div>"
      ],
      "text/plain": [
       "      Bicycle    Bus     Car  Four-Wheel Drive  Lorry  Motorcycle  Others  \\\n",
       "Year                                                                        \n",
       "2002     3278   9256  320649             14783  37794       86779   10043   \n",
       "2003     2993   9673  351832             16429  42753       95545    9500   \n",
       "2004     2963   9265  388589             18306  45420       99227   11186   \n",
       "2005     2751   8594  376061             19106  42062       97072    9362   \n",
       "2006     2834   9700  411444             20885  44767      104107   12266   \n",
       "2007     2690  10285  426941             21823  47696      111765   14909   \n",
       "2008     2463   9356  435665             22793  48250      111819   11571   \n",
       "2009     2486   9380  472307             23581  46724      113962    9294   \n",
       "2010     2178   9580  511861             25777  50438      120156   11756   \n",
       "2011     2033   9986  546702             30828  53078      129017   16394   \n",
       "\n",
       "        Van  \n",
       "Year         \n",
       "2002  19077  \n",
       "2003  20277  \n",
       "2004  20086  \n",
       "2005  19085  \n",
       "2006  20428  \n",
       "2007  21109  \n",
       "2008  20392  \n",
       "2009  19220  \n",
       "2010  18788  \n",
       "2011  17916  "
      ]
     },
     "execution_count": 9,
     "metadata": {},
     "output_type": "execute_result"
    }
   ],
   "source": [
    "vehicles"
   ]
  },
  {
   "cell_type": "code",
   "execution_count": 10,
   "id": "20e380e1",
   "metadata": {},
   "outputs": [],
   "source": [
    "total_vehicles = vehicles.sum(axis=1)\n",
    "vehicles_proportion = vehicles.div(total_vehicles, axis='index')"
   ]
  },
  {
   "cell_type": "code",
   "execution_count": 11,
   "id": "364405ef",
   "metadata": {},
   "outputs": [
    {
     "data": {
      "text/html": [
       "<div>\n",
       "<style scoped>\n",
       "    .dataframe tbody tr th:only-of-type {\n",
       "        vertical-align: middle;\n",
       "    }\n",
       "\n",
       "    .dataframe tbody tr th {\n",
       "        vertical-align: top;\n",
       "    }\n",
       "\n",
       "    .dataframe thead th {\n",
       "        text-align: right;\n",
       "    }\n",
       "</style>\n",
       "<table border=\"1\" class=\"dataframe\">\n",
       "  <thead>\n",
       "    <tr style=\"text-align: right;\">\n",
       "      <th></th>\n",
       "      <th>Bicycle</th>\n",
       "      <th>Bus</th>\n",
       "      <th>Car</th>\n",
       "      <th>Four-Wheel Drive</th>\n",
       "      <th>Lorry</th>\n",
       "      <th>Motorcycle</th>\n",
       "      <th>Others</th>\n",
       "      <th>Van</th>\n",
       "    </tr>\n",
       "    <tr>\n",
       "      <th>Year</th>\n",
       "      <th></th>\n",
       "      <th></th>\n",
       "      <th></th>\n",
       "      <th></th>\n",
       "      <th></th>\n",
       "      <th></th>\n",
       "      <th></th>\n",
       "      <th></th>\n",
       "    </tr>\n",
       "  </thead>\n",
       "  <tbody>\n",
       "    <tr>\n",
       "      <th>2002</th>\n",
       "      <td>0.00653</td>\n",
       "      <td>0.01845</td>\n",
       "      <td>0.63918</td>\n",
       "      <td>0.02947</td>\n",
       "      <td>0.07534</td>\n",
       "      <td>0.17298</td>\n",
       "      <td>0.02002</td>\n",
       "      <td>0.03803</td>\n",
       "    </tr>\n",
       "    <tr>\n",
       "      <th>2003</th>\n",
       "      <td>0.00545</td>\n",
       "      <td>0.01762</td>\n",
       "      <td>0.64086</td>\n",
       "      <td>0.02993</td>\n",
       "      <td>0.07787</td>\n",
       "      <td>0.17403</td>\n",
       "      <td>0.01730</td>\n",
       "      <td>0.03693</td>\n",
       "    </tr>\n",
       "    <tr>\n",
       "      <th>2004</th>\n",
       "      <td>0.00498</td>\n",
       "      <td>0.01557</td>\n",
       "      <td>0.65304</td>\n",
       "      <td>0.03076</td>\n",
       "      <td>0.07633</td>\n",
       "      <td>0.16676</td>\n",
       "      <td>0.01880</td>\n",
       "      <td>0.03376</td>\n",
       "    </tr>\n",
       "    <tr>\n",
       "      <th>2005</th>\n",
       "      <td>0.00479</td>\n",
       "      <td>0.01497</td>\n",
       "      <td>0.65505</td>\n",
       "      <td>0.03328</td>\n",
       "      <td>0.07327</td>\n",
       "      <td>0.16909</td>\n",
       "      <td>0.01631</td>\n",
       "      <td>0.03324</td>\n",
       "    </tr>\n",
       "    <tr>\n",
       "      <th>2006</th>\n",
       "      <td>0.00452</td>\n",
       "      <td>0.01548</td>\n",
       "      <td>0.65681</td>\n",
       "      <td>0.03334</td>\n",
       "      <td>0.07146</td>\n",
       "      <td>0.16619</td>\n",
       "      <td>0.01958</td>\n",
       "      <td>0.03261</td>\n",
       "    </tr>\n",
       "    <tr>\n",
       "      <th>2007</th>\n",
       "      <td>0.00409</td>\n",
       "      <td>0.01565</td>\n",
       "      <td>0.64962</td>\n",
       "      <td>0.03321</td>\n",
       "      <td>0.07257</td>\n",
       "      <td>0.17006</td>\n",
       "      <td>0.02269</td>\n",
       "      <td>0.03212</td>\n",
       "    </tr>\n",
       "    <tr>\n",
       "      <th>2008</th>\n",
       "      <td>0.00372</td>\n",
       "      <td>0.01413</td>\n",
       "      <td>0.65780</td>\n",
       "      <td>0.03441</td>\n",
       "      <td>0.07285</td>\n",
       "      <td>0.16883</td>\n",
       "      <td>0.01747</td>\n",
       "      <td>0.03079</td>\n",
       "    </tr>\n",
       "    <tr>\n",
       "      <th>2009</th>\n",
       "      <td>0.00357</td>\n",
       "      <td>0.01346</td>\n",
       "      <td>0.67767</td>\n",
       "      <td>0.03383</td>\n",
       "      <td>0.06704</td>\n",
       "      <td>0.16351</td>\n",
       "      <td>0.01334</td>\n",
       "      <td>0.02758</td>\n",
       "    </tr>\n",
       "    <tr>\n",
       "      <th>2010</th>\n",
       "      <td>0.00290</td>\n",
       "      <td>0.01276</td>\n",
       "      <td>0.68200</td>\n",
       "      <td>0.03434</td>\n",
       "      <td>0.06720</td>\n",
       "      <td>0.16009</td>\n",
       "      <td>0.01566</td>\n",
       "      <td>0.02503</td>\n",
       "    </tr>\n",
       "    <tr>\n",
       "      <th>2011</th>\n",
       "      <td>0.00252</td>\n",
       "      <td>0.01239</td>\n",
       "      <td>0.67833</td>\n",
       "      <td>0.03825</td>\n",
       "      <td>0.06586</td>\n",
       "      <td>0.16008</td>\n",
       "      <td>0.02034</td>\n",
       "      <td>0.02223</td>\n",
       "    </tr>\n",
       "  </tbody>\n",
       "</table>\n",
       "</div>"
      ],
      "text/plain": [
       "      Bicycle     Bus     Car  Four-Wheel Drive   Lorry  Motorcycle  Others  \\\n",
       "Year                                                                          \n",
       "2002  0.00653 0.01845 0.63918           0.02947 0.07534     0.17298 0.02002   \n",
       "2003  0.00545 0.01762 0.64086           0.02993 0.07787     0.17403 0.01730   \n",
       "2004  0.00498 0.01557 0.65304           0.03076 0.07633     0.16676 0.01880   \n",
       "2005  0.00479 0.01497 0.65505           0.03328 0.07327     0.16909 0.01631   \n",
       "2006  0.00452 0.01548 0.65681           0.03334 0.07146     0.16619 0.01958   \n",
       "2007  0.00409 0.01565 0.64962           0.03321 0.07257     0.17006 0.02269   \n",
       "2008  0.00372 0.01413 0.65780           0.03441 0.07285     0.16883 0.01747   \n",
       "2009  0.00357 0.01346 0.67767           0.03383 0.06704     0.16351 0.01334   \n",
       "2010  0.00290 0.01276 0.68200           0.03434 0.06720     0.16009 0.01566   \n",
       "2011  0.00252 0.01239 0.67833           0.03825 0.06586     0.16008 0.02034   \n",
       "\n",
       "         Van  \n",
       "Year          \n",
       "2002 0.03803  \n",
       "2003 0.03693  \n",
       "2004 0.03376  \n",
       "2005 0.03324  \n",
       "2006 0.03261  \n",
       "2007 0.03212  \n",
       "2008 0.03079  \n",
       "2009 0.02758  \n",
       "2010 0.02503  \n",
       "2011 0.02223  "
      ]
     },
     "execution_count": 11,
     "metadata": {},
     "output_type": "execute_result"
    }
   ],
   "source": [
    "vehicles_proportion"
   ]
  },
  {
   "cell_type": "code",
   "execution_count": 12,
   "id": "4406bfec",
   "metadata": {},
   "outputs": [],
   "source": [
    "vehicles_trimmed = vehicles_proportion.copy()\n",
    "vehicles_trimmed[\"Automobile\"] = vehicles_trimmed[\"Bus\"] + vehicles_trimmed[\"Car\"] + vehicles_trimmed[\"Four-Wheel Drive\"] + vehicles_trimmed[\"Lorry\"] + vehicles_trimmed[\"Van\"]\n",
    "vehicles_trimmed[\"Other\"] = vehicles_trimmed[\"Bicycle\"] + vehicles_trimmed[\"Others\"]\n",
    "vehicles_trimmed = vehicles_trimmed[[\"Automobile\", \"Motorcycle\", \"Other\"]]\n",
    "vehicles_trimmed = vehicles_trimmed * 100"
   ]
  },
  {
   "cell_type": "code",
   "execution_count": 13,
   "id": "ff606abf",
   "metadata": {},
   "outputs": [],
   "source": [
    "def plot_proportions(data):\n",
    "    data = data.round(1)\n",
    "    years = data.index\n",
    "    categories = data.columns\n",
    "    data_cum = data.cumsum(axis=1)\n",
    "    category_colors = plt.colormaps[\"RdYlGn\"](np.linspace(0.15, 0.85, data.shape[1]))\n",
    "    fig, ax = plt.subplots(figsize=(12, 6))\n",
    "    ax.invert_yaxis()\n",
    "    ax.xaxis.set_visible(False)\n",
    "    ax.set_xlim(0, np.sum(data, axis=1).max())\n",
    "\n",
    "    for colname, color in zip(categories, category_colors):\n",
    "        widths = data[colname]\n",
    "        starts = data_cum[colname] - widths\n",
    "        rects = ax.barh(years, widths, left=starts, height=0.5, label=colname, color=color)\n",
    "        r, g, b, _ = color\n",
    "        text_color = 'white' if r * g * b < 0.5 else 'darkgrey'\n",
    "        ax.bar_label(rects, label_type='center', color=text_color)\n",
    "    ax.legend(ncols=len(categories), bbox_to_anchor=(0, -.1), loc='lower left', fontsize='small')\n",
    "    return fig, ax\n"
   ]
  },
  {
   "cell_type": "code",
   "execution_count": 69,
   "id": "742f6311",
   "metadata": {},
   "outputs": [
    {
     "data": {
      "text/html": [
       "<div>\n",
       "<style scoped>\n",
       "    .dataframe tbody tr th:only-of-type {\n",
       "        vertical-align: middle;\n",
       "    }\n",
       "\n",
       "    .dataframe tbody tr th {\n",
       "        vertical-align: top;\n",
       "    }\n",
       "\n",
       "    .dataframe thead th {\n",
       "        text-align: right;\n",
       "    }\n",
       "</style>\n",
       "<table border=\"1\" class=\"dataframe\">\n",
       "  <thead>\n",
       "    <tr style=\"text-align: right;\">\n",
       "      <th></th>\n",
       "      <th>Automobile</th>\n",
       "      <th>Motorcycle</th>\n",
       "      <th>Other</th>\n",
       "    </tr>\n",
       "    <tr>\n",
       "      <th>Year</th>\n",
       "      <th></th>\n",
       "      <th></th>\n",
       "      <th></th>\n",
       "    </tr>\n",
       "  </thead>\n",
       "  <tbody>\n",
       "    <tr>\n",
       "      <th>2002</th>\n",
       "      <td>80.04621</td>\n",
       "      <td>17.29840</td>\n",
       "      <td>2.65539</td>\n",
       "    </tr>\n",
       "    <tr>\n",
       "      <th>2003</th>\n",
       "      <td>80.32102</td>\n",
       "      <td>17.40340</td>\n",
       "      <td>2.27558</td>\n",
       "    </tr>\n",
       "    <tr>\n",
       "      <th>2004</th>\n",
       "      <td>80.94656</td>\n",
       "      <td>16.67563</td>\n",
       "      <td>2.37782</td>\n",
       "    </tr>\n",
       "    <tr>\n",
       "      <th>2005</th>\n",
       "      <td>80.98130</td>\n",
       "      <td>16.90876</td>\n",
       "      <td>2.10994</td>\n",
       "    </tr>\n",
       "    <tr>\n",
       "      <th>2006</th>\n",
       "      <td>80.97045</td>\n",
       "      <td>16.61907</td>\n",
       "      <td>2.41048</td>\n",
       "    </tr>\n",
       "    <tr>\n",
       "      <th>2007</th>\n",
       "      <td>80.31642</td>\n",
       "      <td>17.00577</td>\n",
       "      <td>2.67780</td>\n",
       "    </tr>\n",
       "    <tr>\n",
       "      <th>2008</th>\n",
       "      <td>80.99784</td>\n",
       "      <td>16.88321</td>\n",
       "      <td>2.11895</td>\n",
       "    </tr>\n",
       "    <tr>\n",
       "      <th>2009</th>\n",
       "      <td>81.95835</td>\n",
       "      <td>16.35144</td>\n",
       "      <td>1.69021</td>\n",
       "    </tr>\n",
       "    <tr>\n",
       "      <th>2010</th>\n",
       "      <td>82.13405</td>\n",
       "      <td>16.00940</td>\n",
       "      <td>1.85654</td>\n",
       "    </tr>\n",
       "    <tr>\n",
       "      <th>2011</th>\n",
       "      <td>81.70566</td>\n",
       "      <td>16.00799</td>\n",
       "      <td>2.28636</td>\n",
       "    </tr>\n",
       "  </tbody>\n",
       "</table>\n",
       "</div>"
      ],
      "text/plain": [
       "      Automobile  Motorcycle   Other\n",
       "Year                                \n",
       "2002    80.04621    17.29840 2.65539\n",
       "2003    80.32102    17.40340 2.27558\n",
       "2004    80.94656    16.67563 2.37782\n",
       "2005    80.98130    16.90876 2.10994\n",
       "2006    80.97045    16.61907 2.41048\n",
       "2007    80.31642    17.00577 2.67780\n",
       "2008    80.99784    16.88321 2.11895\n",
       "2009    81.95835    16.35144 1.69021\n",
       "2010    82.13405    16.00940 1.85654\n",
       "2011    81.70566    16.00799 2.28636"
      ]
     },
     "execution_count": 69,
     "metadata": {},
     "output_type": "execute_result"
    }
   ],
   "source": [
    "vehicles_trimmed"
   ]
  },
  {
   "cell_type": "code",
   "execution_count": 68,
   "id": "171e9f92",
   "metadata": {},
   "outputs": [
    {
     "data": {
      "text/plain": [
       "array([0.22435788, 0.15294473, 0.0997896 ])"
      ]
     },
     "execution_count": 68,
     "metadata": {},
     "output_type": "execute_result"
    }
   ],
   "source": [
    "sem(vehicles_trimmed, axis=0)"
   ]
  },
  {
   "cell_type": "code",
   "execution_count": 70,
   "id": "132f0a94",
   "metadata": {},
   "outputs": [
    {
     "data": {
      "text/plain": [
       "Automobile   81.03779\n",
       "Motorcycle   16.71631\n",
       "Other         2.24591\n",
       "dtype: float64"
      ]
     },
     "execution_count": 70,
     "metadata": {},
     "output_type": "execute_result"
    }
   ],
   "source": [
    "vehicles_trimmed.mean()"
   ]
  },
  {
   "cell_type": "code",
   "execution_count": 15,
   "id": "9b53510e",
   "metadata": {},
   "outputs": [
    {
     "data": {
      "image/png": "[encoded data removed]",
      "text/plain": [
       "<Figure size 1200x600 with 1 Axes>"
      ]
     },
     "metadata": {},
     "output_type": "display_data"
    }
   ],
   "source": [
    "fig, ax = plot_proportions(vehicles_trimmed)\n",
    "plt.title(\"Accident Proportion (%)\")\n",
    "plt.show()"
   ]
  },
  {
   "cell_type": "code",
   "execution_count": 16,
   "id": "daffff26",
   "metadata": {},
   "outputs": [],
   "source": [
    "accidents = pd.read_csv(\"data/Total accidents.csv\", index_col=\"Year\")\n",
    "accidents = accidents.drop(labels=[2017])"
   ]
  },
  {
   "cell_type": "code",
   "execution_count": 17,
   "id": "52f89d13",
   "metadata": {},
   "outputs": [],
   "source": [
    "accidents = accidents.replace(',','',regex=True)\n",
    "c = accidents.select_dtypes(object).columns\n",
    "accidents[c] = accidents[c].apply(pd.to_numeric, errors='coerce')"
   ]
  },
  {
   "cell_type": "code",
   "execution_count": 18,
   "id": "5b3271f2",
   "metadata": {},
   "outputs": [],
   "source": [
    "accidents[\"Casualties\"] = accidents[\"Road Deaths\"] + accidents[\"Serious Injury\"] + accidents[\"Slight Injury\"]\n",
    "accidents[\"casualties_per_crash\"] = accidents[\"Casualties\"] / accidents[\"Road Crashes\"]\n",
    "accidents[\"casualties_per_fatality\"] = accidents[\"Casualties\"] / accidents[\"Road Deaths\"]\n",
    "accidents[\"deaths_per_100_accident\"] = (accidents[\"Road Deaths\"] / accidents[\"Road Crashes\"]) * 100"
   ]
  },
  {
   "cell_type": "code",
   "execution_count": 19,
   "id": "6d4c4105",
   "metadata": {},
   "outputs": [
    {
     "data": {
      "text/html": [
       "<div>\n",
       "<style scoped>\n",
       "    .dataframe tbody tr th:only-of-type {\n",
       "        vertical-align: middle;\n",
       "    }\n",
       "\n",
       "    .dataframe tbody tr th {\n",
       "        vertical-align: top;\n",
       "    }\n",
       "\n",
       "    .dataframe thead th {\n",
       "        text-align: right;\n",
       "    }\n",
       "</style>\n",
       "<table border=\"1\" class=\"dataframe\">\n",
       "  <thead>\n",
       "    <tr style=\"text-align: right;\">\n",
       "      <th></th>\n",
       "      <th>Registered Vehicles</th>\n",
       "      <th>Population</th>\n",
       "      <th>Road Crashes</th>\n",
       "      <th>Road Deaths</th>\n",
       "      <th>Serious Injury</th>\n",
       "      <th>Slight Injury</th>\n",
       "      <th>Index per 10,000 Vehicles</th>\n",
       "      <th>Index per 100,000 Population</th>\n",
       "      <th>Index per billion VKT</th>\n",
       "      <th>Casualties</th>\n",
       "      <th>casualties_per_crash</th>\n",
       "      <th>casualties_per_fatality</th>\n",
       "      <th>deaths_per_100_accident</th>\n",
       "    </tr>\n",
       "    <tr>\n",
       "      <th>Year</th>\n",
       "      <th></th>\n",
       "      <th></th>\n",
       "      <th></th>\n",
       "      <th></th>\n",
       "      <th></th>\n",
       "      <th></th>\n",
       "      <th></th>\n",
       "      <th></th>\n",
       "      <th></th>\n",
       "      <th></th>\n",
       "      <th></th>\n",
       "      <th></th>\n",
       "      <th></th>\n",
       "    </tr>\n",
       "  </thead>\n",
       "  <tbody>\n",
       "    <tr>\n",
       "      <th>1997</th>\n",
       "      <td>8550469</td>\n",
       "      <td>21769300</td>\n",
       "      <td>215632</td>\n",
       "      <td>6302</td>\n",
       "      <td>14105</td>\n",
       "      <td>36167</td>\n",
       "      <td>7.37000</td>\n",
       "      <td>28.95000</td>\n",
       "      <td>33.57000</td>\n",
       "      <td>56574</td>\n",
       "      <td>0.26236</td>\n",
       "      <td>8.97715</td>\n",
       "      <td>2.92257</td>\n",
       "    </tr>\n",
       "    <tr>\n",
       "      <th>1998</th>\n",
       "      <td>9141357</td>\n",
       "      <td>22333500</td>\n",
       "      <td>211037</td>\n",
       "      <td>5740</td>\n",
       "      <td>12068</td>\n",
       "      <td>37896</td>\n",
       "      <td>6.28000</td>\n",
       "      <td>25.70000</td>\n",
       "      <td>28.75000</td>\n",
       "      <td>55704</td>\n",
       "      <td>0.26395</td>\n",
       "      <td>9.70453</td>\n",
       "      <td>2.71990</td>\n",
       "    </tr>\n",
       "    <tr>\n",
       "      <th>1999</th>\n",
       "      <td>9929951</td>\n",
       "      <td>22909500</td>\n",
       "      <td>223166</td>\n",
       "      <td>5794</td>\n",
       "      <td>10366</td>\n",
       "      <td>36777</td>\n",
       "      <td>5.83000</td>\n",
       "      <td>25.29000</td>\n",
       "      <td>26.79000</td>\n",
       "      <td>52937</td>\n",
       "      <td>0.23721</td>\n",
       "      <td>9.13652</td>\n",
       "      <td>2.59627</td>\n",
       "    </tr>\n",
       "    <tr>\n",
       "      <th>2000</th>\n",
       "      <td>10598804</td>\n",
       "      <td>23494900</td>\n",
       "      <td>250429</td>\n",
       "      <td>6035</td>\n",
       "      <td>9790</td>\n",
       "      <td>34375</td>\n",
       "      <td>5.69000</td>\n",
       "      <td>25.69000</td>\n",
       "      <td>26.25000</td>\n",
       "      <td>50200</td>\n",
       "      <td>0.20046</td>\n",
       "      <td>8.31814</td>\n",
       "      <td>2.40986</td>\n",
       "    </tr>\n",
       "    <tr>\n",
       "      <th>2001</th>\n",
       "      <td>11302545</td>\n",
       "      <td>24030500</td>\n",
       "      <td>265175</td>\n",
       "      <td>5849</td>\n",
       "      <td>8680</td>\n",
       "      <td>35944</td>\n",
       "      <td>5.17000</td>\n",
       "      <td>24.34000</td>\n",
       "      <td>23.93000</td>\n",
       "      <td>50473</td>\n",
       "      <td>0.19034</td>\n",
       "      <td>8.62934</td>\n",
       "      <td>2.20571</td>\n",
       "    </tr>\n",
       "    <tr>\n",
       "      <th>2002</th>\n",
       "      <td>12068144</td>\n",
       "      <td>24542500</td>\n",
       "      <td>279711</td>\n",
       "      <td>5891</td>\n",
       "      <td>8425</td>\n",
       "      <td>35236</td>\n",
       "      <td>4.88000</td>\n",
       "      <td>24.00000</td>\n",
       "      <td>22.71000</td>\n",
       "      <td>49552</td>\n",
       "      <td>0.17715</td>\n",
       "      <td>8.41148</td>\n",
       "      <td>2.10610</td>\n",
       "    </tr>\n",
       "    <tr>\n",
       "      <th>2003</th>\n",
       "      <td>12819248</td>\n",
       "      <td>25038100</td>\n",
       "      <td>298653</td>\n",
       "      <td>6286</td>\n",
       "      <td>9040</td>\n",
       "      <td>37415</td>\n",
       "      <td>4.90000</td>\n",
       "      <td>25.11000</td>\n",
       "      <td>22.77000</td>\n",
       "      <td>52741</td>\n",
       "      <td>0.17660</td>\n",
       "      <td>8.39023</td>\n",
       "      <td>2.10478</td>\n",
       "    </tr>\n",
       "    <tr>\n",
       "      <th>2004</th>\n",
       "      <td>13764837</td>\n",
       "      <td>25541500</td>\n",
       "      <td>326815</td>\n",
       "      <td>6228</td>\n",
       "      <td>9218</td>\n",
       "      <td>38645</td>\n",
       "      <td>4.52000</td>\n",
       "      <td>24.38000</td>\n",
       "      <td>21.10000</td>\n",
       "      <td>54091</td>\n",
       "      <td>0.16551</td>\n",
       "      <td>8.68513</td>\n",
       "      <td>1.90567</td>\n",
       "    </tr>\n",
       "    <tr>\n",
       "      <th>2005</th>\n",
       "      <td>14733585</td>\n",
       "      <td>26045500</td>\n",
       "      <td>328264</td>\n",
       "      <td>6200</td>\n",
       "      <td>9395</td>\n",
       "      <td>31417</td>\n",
       "      <td>4.21000</td>\n",
       "      <td>23.80000</td>\n",
       "      <td>19.58000</td>\n",
       "      <td>47012</td>\n",
       "      <td>0.14321</td>\n",
       "      <td>7.58258</td>\n",
       "      <td>1.88872</td>\n",
       "    </tr>\n",
       "    <tr>\n",
       "      <th>2006</th>\n",
       "      <td>15790732</td>\n",
       "      <td>26549900</td>\n",
       "      <td>341252</td>\n",
       "      <td>6287</td>\n",
       "      <td>9253</td>\n",
       "      <td>19885</td>\n",
       "      <td>3.98000</td>\n",
       "      <td>23.68000</td>\n",
       "      <td>18.69000</td>\n",
       "      <td>35425</td>\n",
       "      <td>0.10381</td>\n",
       "      <td>5.63464</td>\n",
       "      <td>1.84233</td>\n",
       "    </tr>\n",
       "    <tr>\n",
       "      <th>2007</th>\n",
       "      <td>16813943</td>\n",
       "      <td>27058400</td>\n",
       "      <td>363319</td>\n",
       "      <td>6282</td>\n",
       "      <td>9273</td>\n",
       "      <td>18444</td>\n",
       "      <td>3.74000</td>\n",
       "      <td>23.22000</td>\n",
       "      <td>17.60000</td>\n",
       "      <td>33999</td>\n",
       "      <td>0.09358</td>\n",
       "      <td>5.41213</td>\n",
       "      <td>1.72906</td>\n",
       "    </tr>\n",
       "    <tr>\n",
       "      <th>2008</th>\n",
       "      <td>17733084</td>\n",
       "      <td>27567600</td>\n",
       "      <td>373071</td>\n",
       "      <td>6527</td>\n",
       "      <td>8868</td>\n",
       "      <td>16879</td>\n",
       "      <td>3.68000</td>\n",
       "      <td>23.68000</td>\n",
       "      <td>17.65000</td>\n",
       "      <td>32274</td>\n",
       "      <td>0.08651</td>\n",
       "      <td>4.94469</td>\n",
       "      <td>1.74953</td>\n",
       "    </tr>\n",
       "    <tr>\n",
       "      <th>2009</th>\n",
       "      <td>18933237</td>\n",
       "      <td>28081500</td>\n",
       "      <td>397330</td>\n",
       "      <td>6745</td>\n",
       "      <td>8849</td>\n",
       "      <td>15823</td>\n",
       "      <td>3.56000</td>\n",
       "      <td>24.02000</td>\n",
       "      <td>17.27000</td>\n",
       "      <td>31417</td>\n",
       "      <td>0.07907</td>\n",
       "      <td>4.65782</td>\n",
       "      <td>1.69758</td>\n",
       "    </tr>\n",
       "    <tr>\n",
       "      <th>2010</th>\n",
       "      <td>20006953</td>\n",
       "      <td>28588600</td>\n",
       "      <td>414421</td>\n",
       "      <td>6872</td>\n",
       "      <td>7781</td>\n",
       "      <td>13616</td>\n",
       "      <td>3.43000</td>\n",
       "      <td>24.04000</td>\n",
       "      <td>16.21000</td>\n",
       "      <td>28269</td>\n",
       "      <td>0.06821</td>\n",
       "      <td>4.11365</td>\n",
       "      <td>1.65822</td>\n",
       "    </tr>\n",
       "    <tr>\n",
       "      <th>2011</th>\n",
       "      <td>21311630</td>\n",
       "      <td>29062000</td>\n",
       "      <td>449040</td>\n",
       "      <td>6877</td>\n",
       "      <td>6328</td>\n",
       "      <td>12365</td>\n",
       "      <td>3.23000</td>\n",
       "      <td>23.66000</td>\n",
       "      <td>14.68000</td>\n",
       "      <td>25570</td>\n",
       "      <td>0.05694</td>\n",
       "      <td>3.71819</td>\n",
       "      <td>1.53149</td>\n",
       "    </tr>\n",
       "    <tr>\n",
       "      <th>2012</th>\n",
       "      <td>22590123</td>\n",
       "      <td>29510000</td>\n",
       "      <td>462423</td>\n",
       "      <td>6917</td>\n",
       "      <td>5868</td>\n",
       "      <td>11654</td>\n",
       "      <td>3.06000</td>\n",
       "      <td>23.44000</td>\n",
       "      <td>13.35000</td>\n",
       "      <td>24439</td>\n",
       "      <td>0.05285</td>\n",
       "      <td>3.53318</td>\n",
       "      <td>1.49582</td>\n",
       "    </tr>\n",
       "    <tr>\n",
       "      <th>2013</th>\n",
       "      <td>23434640</td>\n",
       "      <td>30213700</td>\n",
       "      <td>477204</td>\n",
       "      <td>6915</td>\n",
       "      <td>4597</td>\n",
       "      <td>8388</td>\n",
       "      <td>2.95000</td>\n",
       "      <td>22.89000</td>\n",
       "      <td>12.19000</td>\n",
       "      <td>19900</td>\n",
       "      <td>0.04170</td>\n",
       "      <td>2.87780</td>\n",
       "      <td>1.44907</td>\n",
       "    </tr>\n",
       "    <tr>\n",
       "      <th>2014</th>\n",
       "      <td>25101192</td>\n",
       "      <td>30708500</td>\n",
       "      <td>476196</td>\n",
       "      <td>6674</td>\n",
       "      <td>4432</td>\n",
       "      <td>8598</td>\n",
       "      <td>2.66000</td>\n",
       "      <td>21.73000</td>\n",
       "      <td>10.64000</td>\n",
       "      <td>19704</td>\n",
       "      <td>0.04138</td>\n",
       "      <td>2.95235</td>\n",
       "      <td>1.40152</td>\n",
       "    </tr>\n",
       "    <tr>\n",
       "      <th>2015</th>\n",
       "      <td>26301952</td>\n",
       "      <td>31186100</td>\n",
       "      <td>489606</td>\n",
       "      <td>6706</td>\n",
       "      <td>4120</td>\n",
       "      <td>7432</td>\n",
       "      <td>2.55000</td>\n",
       "      <td>21.50000</td>\n",
       "      <td>9.60000</td>\n",
       "      <td>18258</td>\n",
       "      <td>0.03729</td>\n",
       "      <td>2.72264</td>\n",
       "      <td>1.36967</td>\n",
       "    </tr>\n",
       "    <tr>\n",
       "      <th>2016</th>\n",
       "      <td>27638067</td>\n",
       "      <td>31633500</td>\n",
       "      <td>521466</td>\n",
       "      <td>7152</td>\n",
       "      <td>4506</td>\n",
       "      <td>7415</td>\n",
       "      <td>2.59000</td>\n",
       "      <td>22.61000</td>\n",
       "      <td>10.70000</td>\n",
       "      <td>19073</td>\n",
       "      <td>0.03658</td>\n",
       "      <td>2.66681</td>\n",
       "      <td>1.37152</td>\n",
       "    </tr>\n",
       "  </tbody>\n",
       "</table>\n",
       "</div>"
      ],
      "text/plain": [
       "      Registered Vehicles  Population  Road Crashes  Road Deaths  \\\n",
       "Year                                                               \n",
       "1997              8550469    21769300        215632         6302   \n",
       "1998              9141357    22333500        211037         5740   \n",
       "1999              9929951    22909500        223166         5794   \n",
       "2000             10598804    23494900        250429         6035   \n",
       "2001             11302545    24030500        265175         5849   \n",
       "2002             12068144    24542500        279711         5891   \n",
       "2003             12819248    25038100        298653         6286   \n",
       "2004             13764837    25541500        326815         6228   \n",
       "2005             14733585    26045500        328264         6200   \n",
       "2006             15790732    26549900        341252         6287   \n",
       "2007             16813943    27058400        363319         6282   \n",
       "2008             17733084    27567600        373071         6527   \n",
       "2009             18933237    28081500        397330         6745   \n",
       "2010             20006953    28588600        414421         6872   \n",
       "2011             21311630    29062000        449040         6877   \n",
       "2012             22590123    29510000        462423         6917   \n",
       "2013             23434640    30213700        477204         6915   \n",
       "2014             25101192    30708500        476196         6674   \n",
       "2015             26301952    31186100        489606         6706   \n",
       "2016             27638067    31633500        521466         7152   \n",
       "\n",
       "      Serious Injury  Slight Injury  Index per 10,000 Vehicles  \\\n",
       "Year                                                             \n",
       "1997           14105          36167                    7.37000   \n",
       "1998           12068          37896                    6.28000   \n",
       "1999           10366          36777                    5.83000   \n",
       "2000            9790          34375                    5.69000   \n",
       "2001            8680          35944                    5.17000   \n",
       "2002            8425          35236                    4.88000   \n",
       "2003            9040          37415                    4.90000   \n",
       "2004            9218          38645                    4.52000   \n",
       "2005            9395          31417                    4.21000   \n",
       "2006            9253          19885                    3.98000   \n",
       "2007            9273          18444                    3.74000   \n",
       "2008            8868          16879                    3.68000   \n",
       "2009            8849          15823                    3.56000   \n",
       "2010            7781          13616                    3.43000   \n",
       "2011            6328          12365                    3.23000   \n",
       "2012            5868          11654                    3.06000   \n",
       "2013            4597           8388                    2.95000   \n",
       "2014            4432           8598                    2.66000   \n",
       "2015            4120           7432                    2.55000   \n",
       "2016            4506           7415                    2.59000   \n",
       "\n",
       "      Index per 100,000 Population  Index per billion VKT  Casualties  \\\n",
       "Year                                                                    \n",
       "1997                      28.95000               33.57000       56574   \n",
       "1998                      25.70000               28.75000       55704   \n",
       "1999                      25.29000               26.79000       52937   \n",
       "2000                      25.69000               26.25000       50200   \n",
       "2001                      24.34000               23.93000       50473   \n",
       "2002                      24.00000               22.71000       49552   \n",
       "2003                      25.11000               22.77000       52741   \n",
       "2004                      24.38000               21.10000       54091   \n",
       "2005                      23.80000               19.58000       47012   \n",
       "2006                      23.68000               18.69000       35425   \n",
       "2007                      23.22000               17.60000       33999   \n",
       "2008                      23.68000               17.65000       32274   \n",
       "2009                      24.02000               17.27000       31417   \n",
       "2010                      24.04000               16.21000       28269   \n",
       "2011                      23.66000               14.68000       25570   \n",
       "2012                      23.44000               13.35000       24439   \n",
       "2013                      22.89000               12.19000       19900   \n",
       "2014                      21.73000               10.64000       19704   \n",
       "2015                      21.50000                9.60000       18258   \n",
       "2016                      22.61000               10.70000       19073   \n",
       "\n",
       "      casualties_per_crash  casualties_per_fatality  deaths_per_100_accident  \n",
       "Year                                                                          \n",
       "1997               0.26236                  8.97715                  2.92257  \n",
       "1998               0.26395                  9.70453                  2.71990  \n",
       "1999               0.23721                  9.13652                  2.59627  \n",
       "2000               0.20046                  8.31814                  2.40986  \n",
       "2001               0.19034                  8.62934                  2.20571  \n",
       "2002               0.17715                  8.41148                  2.10610  \n",
       "2003               0.17660                  8.39023                  2.10478  \n",
       "2004               0.16551                  8.68513                  1.90567  \n",
       "2005               0.14321                  7.58258                  1.88872  \n",
       "2006               0.10381                  5.63464                  1.84233  \n",
       "2007               0.09358                  5.41213                  1.72906  \n",
       "2008               0.08651                  4.94469                  1.74953  \n",
       "2009               0.07907                  4.65782                  1.69758  \n",
       "2010               0.06821                  4.11365                  1.65822  \n",
       "2011               0.05694                  3.71819                  1.53149  \n",
       "2012               0.05285                  3.53318                  1.49582  \n",
       "2013               0.04170                  2.87780                  1.44907  \n",
       "2014               0.04138                  2.95235                  1.40152  \n",
       "2015               0.03729                  2.72264                  1.36967  \n",
       "2016               0.03658                  2.66681                  1.37152  "
      ]
     },
     "execution_count": 19,
     "metadata": {},
     "output_type": "execute_result"
    }
   ],
   "source": [
    "accidents"
   ]
  },
  {
   "cell_type": "code",
   "execution_count": 20,
   "id": "86e122b7",
   "metadata": {},
   "outputs": [
    {
     "data": {
      "image/png": "[encoded data removed]",
      "text/plain": [
       "<Figure size 640x480 with 1 Axes>"
      ]
     },
     "metadata": {},
     "output_type": "display_data"
    }
   ],
   "source": [
    "_ = sns.lineplot(data=accidents, x=accidents.index, y=\"casualties_per_crash\")"
   ]
  },
  {
   "cell_type": "code",
   "execution_count": 21,
   "id": "4a03e728",
   "metadata": {},
   "outputs": [],
   "source": [
    "fatalities = pd.read_csv(\"data/Motor Fatalities.csv\", index_col=\"Year\")"
   ]
  },
  {
   "cell_type": "code",
   "execution_count": 22,
   "id": "d1bbb276",
   "metadata": {},
   "outputs": [
    {
     "data": {
      "text/html": [
       "<div>\n",
       "<style scoped>\n",
       "    .dataframe tbody tr th:only-of-type {\n",
       "        vertical-align: middle;\n",
       "    }\n",
       "\n",
       "    .dataframe tbody tr th {\n",
       "        vertical-align: top;\n",
       "    }\n",
       "\n",
       "    .dataframe thead th {\n",
       "        text-align: right;\n",
       "    }\n",
       "</style>\n",
       "<table border=\"1\" class=\"dataframe\">\n",
       "  <thead>\n",
       "    <tr style=\"text-align: right;\">\n",
       "      <th></th>\n",
       "      <th>Bicycle</th>\n",
       "      <th>Bus</th>\n",
       "      <th>Car</th>\n",
       "      <th>Four-Wheel Drive</th>\n",
       "      <th>Lorry</th>\n",
       "      <th>Motorcycle</th>\n",
       "      <th>Others</th>\n",
       "      <th>Pedestrian</th>\n",
       "      <th>Van</th>\n",
       "    </tr>\n",
       "    <tr>\n",
       "      <th>Year</th>\n",
       "      <th></th>\n",
       "      <th></th>\n",
       "      <th></th>\n",
       "      <th></th>\n",
       "      <th></th>\n",
       "      <th></th>\n",
       "      <th></th>\n",
       "      <th></th>\n",
       "      <th></th>\n",
       "    </tr>\n",
       "  </thead>\n",
       "  <tbody>\n",
       "    <tr>\n",
       "      <th>2012</th>\n",
       "      <td>157</td>\n",
       "      <td>31</td>\n",
       "      <td>1440</td>\n",
       "      <td>169</td>\n",
       "      <td>190</td>\n",
       "      <td>4200</td>\n",
       "      <td>149</td>\n",
       "      <td>552</td>\n",
       "      <td>82</td>\n",
       "    </tr>\n",
       "    <tr>\n",
       "      <th>2013</th>\n",
       "      <td>159</td>\n",
       "      <td>60</td>\n",
       "      <td>1400</td>\n",
       "      <td>168</td>\n",
       "      <td>210</td>\n",
       "      <td>4300</td>\n",
       "      <td>100</td>\n",
       "      <td>455</td>\n",
       "      <td>80</td>\n",
       "    </tr>\n",
       "    <tr>\n",
       "      <th>2014</th>\n",
       "      <td>124</td>\n",
       "      <td>29</td>\n",
       "      <td>1260</td>\n",
       "      <td>129</td>\n",
       "      <td>220</td>\n",
       "      <td>4200</td>\n",
       "      <td>149</td>\n",
       "      <td>530</td>\n",
       "      <td>74</td>\n",
       "    </tr>\n",
       "    <tr>\n",
       "      <th>2015</th>\n",
       "      <td>108</td>\n",
       "      <td>20</td>\n",
       "      <td>1360</td>\n",
       "      <td>130</td>\n",
       "      <td>223</td>\n",
       "      <td>4210</td>\n",
       "      <td>113</td>\n",
       "      <td>480</td>\n",
       "      <td>73</td>\n",
       "    </tr>\n",
       "    <tr>\n",
       "      <th>2016</th>\n",
       "      <td>123</td>\n",
       "      <td>29</td>\n",
       "      <td>1490</td>\n",
       "      <td>143</td>\n",
       "      <td>182</td>\n",
       "      <td>4500</td>\n",
       "      <td>122</td>\n",
       "      <td>525</td>\n",
       "      <td>63</td>\n",
       "    </tr>\n",
       "    <tr>\n",
       "      <th>2017</th>\n",
       "      <td>162</td>\n",
       "      <td>24</td>\n",
       "      <td>1270</td>\n",
       "      <td>114</td>\n",
       "      <td>198</td>\n",
       "      <td>4350</td>\n",
       "      <td>124</td>\n",
       "      <td>440</td>\n",
       "      <td>62</td>\n",
       "    </tr>\n",
       "    <tr>\n",
       "      <th>2018</th>\n",
       "      <td>122</td>\n",
       "      <td>39</td>\n",
       "      <td>1170</td>\n",
       "      <td>89</td>\n",
       "      <td>195</td>\n",
       "      <td>4130</td>\n",
       "      <td>90</td>\n",
       "      <td>410</td>\n",
       "      <td>48</td>\n",
       "    </tr>\n",
       "    <tr>\n",
       "      <th>2019</th>\n",
       "      <td>108</td>\n",
       "      <td>27</td>\n",
       "      <td>1250</td>\n",
       "      <td>82</td>\n",
       "      <td>180</td>\n",
       "      <td>3950</td>\n",
       "      <td>110</td>\n",
       "      <td>390</td>\n",
       "      <td>53</td>\n",
       "    </tr>\n",
       "  </tbody>\n",
       "</table>\n",
       "</div>"
      ],
      "text/plain": [
       "      Bicycle  Bus   Car  Four-Wheel Drive  Lorry  Motorcycle  Others  \\\n",
       "Year                                                                    \n",
       "2012      157   31  1440               169    190        4200     149   \n",
       "2013      159   60  1400               168    210        4300     100   \n",
       "2014      124   29  1260               129    220        4200     149   \n",
       "2015      108   20  1360               130    223        4210     113   \n",
       "2016      123   29  1490               143    182        4500     122   \n",
       "2017      162   24  1270               114    198        4350     124   \n",
       "2018      122   39  1170                89    195        4130      90   \n",
       "2019      108   27  1250                82    180        3950     110   \n",
       "\n",
       "      Pedestrian  Van  \n",
       "Year                   \n",
       "2012         552   82  \n",
       "2013         455   80  \n",
       "2014         530   74  \n",
       "2015         480   73  \n",
       "2016         525   63  \n",
       "2017         440   62  \n",
       "2018         410   48  \n",
       "2019         390   53  "
      ]
     },
     "execution_count": 22,
     "metadata": {},
     "output_type": "execute_result"
    }
   ],
   "source": [
    "fatalities"
   ]
  },
  {
   "cell_type": "code",
   "execution_count": 23,
   "id": "06b0c4bd",
   "metadata": {},
   "outputs": [],
   "source": [
    "total_fatalities = fatalities.sum(axis=1)"
   ]
  },
  {
   "cell_type": "code",
   "execution_count": 24,
   "id": "21c0f68a",
   "metadata": {},
   "outputs": [],
   "source": [
    "fatalities_proportion = fatalities.div(total_fatalities, axis='index')"
   ]
  },
  {
   "cell_type": "code",
   "execution_count": 25,
   "id": "54afad60",
   "metadata": {},
   "outputs": [
    {
     "data": {
      "text/html": [
       "<div>\n",
       "<style scoped>\n",
       "    .dataframe tbody tr th:only-of-type {\n",
       "        vertical-align: middle;\n",
       "    }\n",
       "\n",
       "    .dataframe tbody tr th {\n",
       "        vertical-align: top;\n",
       "    }\n",
       "\n",
       "    .dataframe thead th {\n",
       "        text-align: right;\n",
       "    }\n",
       "</style>\n",
       "<table border=\"1\" class=\"dataframe\">\n",
       "  <thead>\n",
       "    <tr style=\"text-align: right;\">\n",
       "      <th></th>\n",
       "      <th>Bicycle</th>\n",
       "      <th>Bus</th>\n",
       "      <th>Car</th>\n",
       "      <th>Four-Wheel Drive</th>\n",
       "      <th>Lorry</th>\n",
       "      <th>Motorcycle</th>\n",
       "      <th>Others</th>\n",
       "      <th>Pedestrian</th>\n",
       "      <th>Van</th>\n",
       "    </tr>\n",
       "    <tr>\n",
       "      <th>Year</th>\n",
       "      <th></th>\n",
       "      <th></th>\n",
       "      <th></th>\n",
       "      <th></th>\n",
       "      <th></th>\n",
       "      <th></th>\n",
       "      <th></th>\n",
       "      <th></th>\n",
       "      <th></th>\n",
       "    </tr>\n",
       "  </thead>\n",
       "  <tbody>\n",
       "    <tr>\n",
       "      <th>2012</th>\n",
       "      <td>0.02253</td>\n",
       "      <td>0.00445</td>\n",
       "      <td>0.20660</td>\n",
       "      <td>0.02425</td>\n",
       "      <td>0.02726</td>\n",
       "      <td>0.60258</td>\n",
       "      <td>0.02138</td>\n",
       "      <td>0.07920</td>\n",
       "      <td>0.01176</td>\n",
       "    </tr>\n",
       "    <tr>\n",
       "      <th>2013</th>\n",
       "      <td>0.02294</td>\n",
       "      <td>0.00866</td>\n",
       "      <td>0.20196</td>\n",
       "      <td>0.02424</td>\n",
       "      <td>0.03029</td>\n",
       "      <td>0.62031</td>\n",
       "      <td>0.01443</td>\n",
       "      <td>0.06564</td>\n",
       "      <td>0.01154</td>\n",
       "    </tr>\n",
       "    <tr>\n",
       "      <th>2014</th>\n",
       "      <td>0.01847</td>\n",
       "      <td>0.00432</td>\n",
       "      <td>0.18764</td>\n",
       "      <td>0.01921</td>\n",
       "      <td>0.03276</td>\n",
       "      <td>0.62547</td>\n",
       "      <td>0.02219</td>\n",
       "      <td>0.07893</td>\n",
       "      <td>0.01102</td>\n",
       "    </tr>\n",
       "    <tr>\n",
       "      <th>2015</th>\n",
       "      <td>0.01608</td>\n",
       "      <td>0.00298</td>\n",
       "      <td>0.20247</td>\n",
       "      <td>0.01935</td>\n",
       "      <td>0.03320</td>\n",
       "      <td>0.62677</td>\n",
       "      <td>0.01682</td>\n",
       "      <td>0.07146</td>\n",
       "      <td>0.01087</td>\n",
       "    </tr>\n",
       "    <tr>\n",
       "      <th>2016</th>\n",
       "      <td>0.01714</td>\n",
       "      <td>0.00404</td>\n",
       "      <td>0.20761</td>\n",
       "      <td>0.01992</td>\n",
       "      <td>0.02536</td>\n",
       "      <td>0.62700</td>\n",
       "      <td>0.01700</td>\n",
       "      <td>0.07315</td>\n",
       "      <td>0.00878</td>\n",
       "    </tr>\n",
       "    <tr>\n",
       "      <th>2017</th>\n",
       "      <td>0.02402</td>\n",
       "      <td>0.00356</td>\n",
       "      <td>0.18832</td>\n",
       "      <td>0.01690</td>\n",
       "      <td>0.02936</td>\n",
       "      <td>0.64502</td>\n",
       "      <td>0.01839</td>\n",
       "      <td>0.06524</td>\n",
       "      <td>0.00919</td>\n",
       "    </tr>\n",
       "    <tr>\n",
       "      <th>2018</th>\n",
       "      <td>0.01939</td>\n",
       "      <td>0.00620</td>\n",
       "      <td>0.18592</td>\n",
       "      <td>0.01414</td>\n",
       "      <td>0.03099</td>\n",
       "      <td>0.65628</td>\n",
       "      <td>0.01430</td>\n",
       "      <td>0.06515</td>\n",
       "      <td>0.00763</td>\n",
       "    </tr>\n",
       "    <tr>\n",
       "      <th>2019</th>\n",
       "      <td>0.01756</td>\n",
       "      <td>0.00439</td>\n",
       "      <td>0.20325</td>\n",
       "      <td>0.01333</td>\n",
       "      <td>0.02927</td>\n",
       "      <td>0.64228</td>\n",
       "      <td>0.01789</td>\n",
       "      <td>0.06341</td>\n",
       "      <td>0.00862</td>\n",
       "    </tr>\n",
       "  </tbody>\n",
       "</table>\n",
       "</div>"
      ],
      "text/plain": [
       "      Bicycle     Bus     Car  Four-Wheel Drive   Lorry  Motorcycle  Others  \\\n",
       "Year                                                                          \n",
       "2012  0.02253 0.00445 0.20660           0.02425 0.02726     0.60258 0.02138   \n",
       "2013  0.02294 0.00866 0.20196           0.02424 0.03029     0.62031 0.01443   \n",
       "2014  0.01847 0.00432 0.18764           0.01921 0.03276     0.62547 0.02219   \n",
       "2015  0.01608 0.00298 0.20247           0.01935 0.03320     0.62677 0.01682   \n",
       "2016  0.01714 0.00404 0.20761           0.01992 0.02536     0.62700 0.01700   \n",
       "2017  0.02402 0.00356 0.18832           0.01690 0.02936     0.64502 0.01839   \n",
       "2018  0.01939 0.00620 0.18592           0.01414 0.03099     0.65628 0.01430   \n",
       "2019  0.01756 0.00439 0.20325           0.01333 0.02927     0.64228 0.01789   \n",
       "\n",
       "      Pedestrian     Van  \n",
       "Year                      \n",
       "2012     0.07920 0.01176  \n",
       "2013     0.06564 0.01154  \n",
       "2014     0.07893 0.01102  \n",
       "2015     0.07146 0.01087  \n",
       "2016     0.07315 0.00878  \n",
       "2017     0.06524 0.00919  \n",
       "2018     0.06515 0.00763  \n",
       "2019     0.06341 0.00862  "
      ]
     },
     "execution_count": 25,
     "metadata": {},
     "output_type": "execute_result"
    }
   ],
   "source": [
    "fatalities_proportion"
   ]
  },
  {
   "cell_type": "code",
   "execution_count": 26,
   "id": "667d5725",
   "metadata": {},
   "outputs": [
    {
     "data": {
      "text/plain": [
       "Bicycle            0.01976\n",
       "Bus                0.00482\n",
       "Car                0.19797\n",
       "Four-Wheel Drive   0.01892\n",
       "Lorry              0.02981\n",
       "Motorcycle         0.63071\n",
       "Others             0.01780\n",
       "Pedestrian         0.07027\n",
       "Van                0.00993\n",
       "dtype: float64"
      ]
     },
     "execution_count": 26,
     "metadata": {},
     "output_type": "execute_result"
    }
   ],
   "source": [
    "fatalities_proportion.mean()"
   ]
  },
  {
   "cell_type": "code",
   "execution_count": 27,
   "id": "7a68b713",
   "metadata": {},
   "outputs": [],
   "source": [
    "fatalities_trimmed = fatalities_proportion.copy()\n",
    "fatalities_trimmed[\"Automobile\"] = fatalities_trimmed[\"Bus\"] + fatalities_trimmed[\"Car\"] + fatalities_trimmed[\"Four-Wheel Drive\"] + fatalities_trimmed[\"Lorry\"] + fatalities_trimmed[\"Van\"]\n",
    "fatalities_trimmed[\"Other\"] = fatalities_trimmed[\"Bicycle\"] + fatalities_trimmed[\"Others\"] + fatalities_trimmed[\"Pedestrian\"]\n",
    "fatalities_trimmed = fatalities_trimmed[[\"Automobile\", \"Motorcycle\", \"Other\"]]\n",
    "fatalities_trimmed = fatalities_trimmed * 100\n"
   ]
  },
  {
   "cell_type": "code",
   "execution_count": 28,
   "id": "973adb09",
   "metadata": {},
   "outputs": [],
   "source": [
    "fatalities_trimmed = fatalities_trimmed.round(1)"
   ]
  },
  {
   "cell_type": "code",
   "execution_count": 29,
   "id": "967fbb8b",
   "metadata": {},
   "outputs": [
    {
     "data": {
      "image/png": "[encoded data removed]",
      "text/plain": [
       "<Figure size 900x500 with 1 Axes>"
      ]
     },
     "metadata": {},
     "output_type": "display_data"
    }
   ],
   "source": [
    "years = fatalities_trimmed.index\n",
    "categories = fatalities_trimmed.columns\n",
    "data_cum = fatalities_trimmed.cumsum(axis=1)\n",
    "category_colors = plt.colormaps[\"RdYlGn\"](np.linspace(0.15, 0.85, fatalities_trimmed.shape[1]))\n",
    "fig, ax = plt.subplots(figsize=(9, 5))\n",
    "ax.invert_yaxis()\n",
    "ax.xaxis.set_visible(False)\n",
    "ax.set_xlim(0, np.sum(fatalities_trimmed, axis=1).max())\n",
    "\n",
    "for colname, color in zip(categories, category_colors):\n",
    "    widths = fatalities_trimmed[colname]\n",
    "    starts = data_cum[colname] - widths\n",
    "    rects = ax.barh(years, widths, left=starts, height=0.5, label=colname, color=color)\n",
    "    r, g, b, _ = color\n",
    "    text_color = 'white' if r * g * b < 0.5 else 'darkgrey'\n",
    "    ax.bar_label(rects, label_type='center', color=text_color)\n",
    "ax.legend(ncols=len(categories), bbox_to_anchor=(0, -.1), loc='lower left', fontsize='small')\n",
    "\n",
    "plt.title(\"Fatality Proportion (%)\")\n",
    "plt.show()\n"
   ]
  },
  {
   "cell_type": "code",
   "execution_count": 71,
   "id": "50e0028d",
   "metadata": {},
   "outputs": [
    {
     "data": {
      "text/plain": [
       "Automobile   26.15000\n",
       "Motorcycle   63.06250\n",
       "Other        10.78750\n",
       "dtype: float64"
      ]
     },
     "execution_count": 71,
     "metadata": {},
     "output_type": "execute_result"
    }
   ],
   "source": [
    "fatalities_trimmed.mean()"
   ]
  },
  {
   "cell_type": "code",
   "execution_count": 72,
   "id": "f81cce55",
   "metadata": {},
   "outputs": [
    {
     "data": {
      "text/plain": [
       "array([0.42342144, 0.58460533, 0.31984232])"
      ]
     },
     "execution_count": 72,
     "metadata": {},
     "output_type": "execute_result"
    }
   ],
   "source": [
    "sem(fatalities_trimmed)"
   ]
  },
  {
   "cell_type": "markdown",
   "id": "c8d828a4",
   "metadata": {},
   "source": [
    "Assume fatality proportion is the same as overall casualty proportion"
   ]
  },
  {
   "cell_type": "code",
   "execution_count": 30,
   "id": "da4daef8",
   "metadata": {},
   "outputs": [],
   "source": [
    "dot_product = np.dot(accidents[\"Casualties\"].to_numpy().reshape(-1,1), fatalities_proportion.mean().to_numpy().reshape(1,9))\n",
    "casualty_vehicle_type = pd.DataFrame(dot_product, columns=fatalities_proportion.columns, index=accidents.index)"
   ]
  },
  {
   "cell_type": "code",
   "execution_count": 31,
   "id": "79cdfb75",
   "metadata": {},
   "outputs": [
    {
     "data": {
      "text/html": [
       "<div>\n",
       "<style scoped>\n",
       "    .dataframe tbody tr th:only-of-type {\n",
       "        vertical-align: middle;\n",
       "    }\n",
       "\n",
       "    .dataframe tbody tr th {\n",
       "        vertical-align: top;\n",
       "    }\n",
       "\n",
       "    .dataframe thead th {\n",
       "        text-align: right;\n",
       "    }\n",
       "</style>\n",
       "<table border=\"1\" class=\"dataframe\">\n",
       "  <thead>\n",
       "    <tr style=\"text-align: right;\">\n",
       "      <th></th>\n",
       "      <th>Bicycle</th>\n",
       "      <th>Bus</th>\n",
       "      <th>Car</th>\n",
       "      <th>Four-Wheel Drive</th>\n",
       "      <th>Lorry</th>\n",
       "      <th>Motorcycle</th>\n",
       "      <th>Others</th>\n",
       "      <th>Pedestrian</th>\n",
       "      <th>Van</th>\n",
       "    </tr>\n",
       "    <tr>\n",
       "      <th>Year</th>\n",
       "      <th></th>\n",
       "      <th></th>\n",
       "      <th></th>\n",
       "      <th></th>\n",
       "      <th></th>\n",
       "      <th></th>\n",
       "      <th></th>\n",
       "      <th></th>\n",
       "      <th></th>\n",
       "    </tr>\n",
       "  </thead>\n",
       "  <tbody>\n",
       "    <tr>\n",
       "      <th>1997</th>\n",
       "      <td>1118.14244</td>\n",
       "      <td>272.87311</td>\n",
       "      <td>11200.01599</td>\n",
       "      <td>1070.32003</td>\n",
       "      <td>1686.53535</td>\n",
       "      <td>35681.99458</td>\n",
       "      <td>1006.93617</td>\n",
       "      <td>3975.61294</td>\n",
       "      <td>561.56940</td>\n",
       "    </tr>\n",
       "    <tr>\n",
       "      <th>1998</th>\n",
       "      <td>1100.94755</td>\n",
       "      <td>268.67685</td>\n",
       "      <td>11027.78115</td>\n",
       "      <td>1053.86055</td>\n",
       "      <td>1660.59966</td>\n",
       "      <td>35133.27369</td>\n",
       "      <td>991.45142</td>\n",
       "      <td>3914.47561</td>\n",
       "      <td>552.93354</td>\n",
       "    </tr>\n",
       "    <tr>\n",
       "      <th>1999</th>\n",
       "      <td>1046.25988</td>\n",
       "      <td>255.33079</td>\n",
       "      <td>10479.99516</td>\n",
       "      <td>1001.51185</td>\n",
       "      <td>1578.11224</td>\n",
       "      <td>33388.08900</td>\n",
       "      <td>942.20278</td>\n",
       "      <td>3720.03080</td>\n",
       "      <td>525.46752</td>\n",
       "    </tr>\n",
       "    <tr>\n",
       "      <th>2000</th>\n",
       "      <td>992.16514</td>\n",
       "      <td>242.12943</td>\n",
       "      <td>9938.14831</td>\n",
       "      <td>949.73071</td>\n",
       "      <td>1496.51915</td>\n",
       "      <td>31661.82571</td>\n",
       "      <td>893.48810</td>\n",
       "      <td>3527.69416</td>\n",
       "      <td>498.29929</td>\n",
       "    </tr>\n",
       "    <tr>\n",
       "      <th>2001</th>\n",
       "      <td>997.56078</td>\n",
       "      <td>243.44619</td>\n",
       "      <td>9992.19442</td>\n",
       "      <td>954.89558</td>\n",
       "      <td>1504.65759</td>\n",
       "      <td>31834.01054</td>\n",
       "      <td>898.34711</td>\n",
       "      <td>3546.87864</td>\n",
       "      <td>501.00916</td>\n",
       "    </tr>\n",
       "    <tr>\n",
       "      <th>2002</th>\n",
       "      <td>979.35791</td>\n",
       "      <td>239.00393</td>\n",
       "      <td>9809.86305</td>\n",
       "      <td>937.47124</td>\n",
       "      <td>1477.20153</td>\n",
       "      <td>31253.12326</td>\n",
       "      <td>881.95463</td>\n",
       "      <td>3482.15739</td>\n",
       "      <td>491.86706</td>\n",
       "    </tr>\n",
       "    <tr>\n",
       "      <th>2003</th>\n",
       "      <td>1042.38609</td>\n",
       "      <td>254.38542</td>\n",
       "      <td>10441.19283</td>\n",
       "      <td>997.80374</td>\n",
       "      <td>1572.26925</td>\n",
       "      <td>33264.46912</td>\n",
       "      <td>938.71426</td>\n",
       "      <td>3706.25733</td>\n",
       "      <td>523.52197</td>\n",
       "    </tr>\n",
       "    <tr>\n",
       "      <th>2004</th>\n",
       "      <td>1069.06782</td>\n",
       "      <td>260.89687</td>\n",
       "      <td>10708.45379</td>\n",
       "      <td>1023.34430</td>\n",
       "      <td>1612.51429</td>\n",
       "      <td>34115.93256</td>\n",
       "      <td>962.74233</td>\n",
       "      <td>3801.12560</td>\n",
       "      <td>536.92244</td>\n",
       "    </tr>\n",
       "    <tr>\n",
       "      <th>2005</th>\n",
       "      <td>929.15672</td>\n",
       "      <td>226.75276</td>\n",
       "      <td>9307.01650</td>\n",
       "      <td>889.41714</td>\n",
       "      <td>1401.48124</td>\n",
       "      <td>29651.11056</td>\n",
       "      <td>836.74627</td>\n",
       "      <td>3303.66450</td>\n",
       "      <td>466.65430</td>\n",
       "    </tr>\n",
       "    <tr>\n",
       "      <th>2006</th>\n",
       "      <td>700.14841</td>\n",
       "      <td>170.86524</td>\n",
       "      <td>7013.12558</td>\n",
       "      <td>670.20340</td>\n",
       "      <td>1056.05958</td>\n",
       "      <td>22343.03139</td>\n",
       "      <td>630.51426</td>\n",
       "      <td>2489.41366</td>\n",
       "      <td>351.63849</td>\n",
       "    </tr>\n",
       "    <tr>\n",
       "      <th>2007</th>\n",
       "      <td>671.96459</td>\n",
       "      <td>163.98722</td>\n",
       "      <td>6730.81881</td>\n",
       "      <td>643.22499</td>\n",
       "      <td>1013.54890</td>\n",
       "      <td>21443.63371</td>\n",
       "      <td>605.13350</td>\n",
       "      <td>2389.20466</td>\n",
       "      <td>337.48361</td>\n",
       "    </tr>\n",
       "    <tr>\n",
       "      <th>2008</th>\n",
       "      <td>637.87127</td>\n",
       "      <td>155.66704</td>\n",
       "      <td>6389.31870</td>\n",
       "      <td>610.58982</td>\n",
       "      <td>962.12468</td>\n",
       "      <td>20355.65265</td>\n",
       "      <td>574.43097</td>\n",
       "      <td>2267.98409</td>\n",
       "      <td>320.36078</td>\n",
       "    </tr>\n",
       "    <tr>\n",
       "      <th>2009</th>\n",
       "      <td>620.93331</td>\n",
       "      <td>151.53347</td>\n",
       "      <td>6219.65748</td>\n",
       "      <td>594.37629</td>\n",
       "      <td>936.57654</td>\n",
       "      <td>19815.13104</td>\n",
       "      <td>559.17760</td>\n",
       "      <td>2207.76031</td>\n",
       "      <td>311.85396</td>\n",
       "    </tr>\n",
       "    <tr>\n",
       "      <th>2010</th>\n",
       "      <td>558.71546</td>\n",
       "      <td>136.34974</td>\n",
       "      <td>5596.44451</td>\n",
       "      <td>534.81947</td>\n",
       "      <td>842.73107</td>\n",
       "      <td>17829.64444</td>\n",
       "      <td>503.14771</td>\n",
       "      <td>1986.54156</td>\n",
       "      <td>280.60603</td>\n",
       "    </tr>\n",
       "    <tr>\n",
       "      <th>2011</th>\n",
       "      <td>505.37176</td>\n",
       "      <td>123.33166</td>\n",
       "      <td>5062.12056</td>\n",
       "      <td>483.75726</td>\n",
       "      <td>762.27081</td>\n",
       "      <td>16127.34827</td>\n",
       "      <td>455.10938</td>\n",
       "      <td>1796.87529</td>\n",
       "      <td>253.81500</td>\n",
       "    </tr>\n",
       "    <tr>\n",
       "      <th>2012</th>\n",
       "      <td>483.01840</td>\n",
       "      <td>117.87652</td>\n",
       "      <td>4838.21527</td>\n",
       "      <td>462.35994</td>\n",
       "      <td>728.55441</td>\n",
       "      <td>15414.01113</td>\n",
       "      <td>434.97920</td>\n",
       "      <td>1717.39677</td>\n",
       "      <td>242.58837</td>\n",
       "    </tr>\n",
       "    <tr>\n",
       "      <th>2013</th>\n",
       "      <td>393.30849</td>\n",
       "      <td>95.98358</td>\n",
       "      <td>3939.62453</td>\n",
       "      <td>376.48688</td>\n",
       "      <td>593.24166</td>\n",
       "      <td>12551.20182</td>\n",
       "      <td>354.19150</td>\n",
       "      <td>1398.42856</td>\n",
       "      <td>197.53298</td>\n",
       "    </tr>\n",
       "    <tr>\n",
       "      <th>2014</th>\n",
       "      <td>389.43470</td>\n",
       "      <td>95.03821</td>\n",
       "      <td>3900.82220</td>\n",
       "      <td>372.77876</td>\n",
       "      <td>587.39867</td>\n",
       "      <td>12427.58195</td>\n",
       "      <td>350.70298</td>\n",
       "      <td>1384.65510</td>\n",
       "      <td>195.58743</td>\n",
       "    </tr>\n",
       "    <tr>\n",
       "      <th>2015</th>\n",
       "      <td>360.85560</td>\n",
       "      <td>88.06373</td>\n",
       "      <td>3614.55601</td>\n",
       "      <td>345.42198</td>\n",
       "      <td>544.29177</td>\n",
       "      <td>11515.57000</td>\n",
       "      <td>324.96625</td>\n",
       "      <td>1283.04064</td>\n",
       "      <td>181.23403</td>\n",
       "    </tr>\n",
       "    <tr>\n",
       "      <th>2016</th>\n",
       "      <td>376.96346</td>\n",
       "      <td>91.99471</td>\n",
       "      <td>3775.90245</td>\n",
       "      <td>360.84091</td>\n",
       "      <td>568.58784</td>\n",
       "      <td>12029.60163</td>\n",
       "      <td>339.47208</td>\n",
       "      <td>1340.31296</td>\n",
       "      <td>189.32395</td>\n",
       "    </tr>\n",
       "  </tbody>\n",
       "</table>\n",
       "</div>"
      ],
      "text/plain": [
       "        Bicycle       Bus         Car  Four-Wheel Drive      Lorry  \\\n",
       "Year                                                                 \n",
       "1997 1118.14244 272.87311 11200.01599        1070.32003 1686.53535   \n",
       "1998 1100.94755 268.67685 11027.78115        1053.86055 1660.59966   \n",
       "1999 1046.25988 255.33079 10479.99516        1001.51185 1578.11224   \n",
       "2000  992.16514 242.12943  9938.14831         949.73071 1496.51915   \n",
       "2001  997.56078 243.44619  9992.19442         954.89558 1504.65759   \n",
       "2002  979.35791 239.00393  9809.86305         937.47124 1477.20153   \n",
       "2003 1042.38609 254.38542 10441.19283         997.80374 1572.26925   \n",
       "2004 1069.06782 260.89687 10708.45379        1023.34430 1612.51429   \n",
       "2005  929.15672 226.75276  9307.01650         889.41714 1401.48124   \n",
       "2006  700.14841 170.86524  7013.12558         670.20340 1056.05958   \n",
       "2007  671.96459 163.98722  6730.81881         643.22499 1013.54890   \n",
       "2008  637.87127 155.66704  6389.31870         610.58982  962.12468   \n",
       "2009  620.93331 151.53347  6219.65748         594.37629  936.57654   \n",
       "2010  558.71546 136.34974  5596.44451         534.81947  842.73107   \n",
       "2011  505.37176 123.33166  5062.12056         483.75726  762.27081   \n",
       "2012  483.01840 117.87652  4838.21527         462.35994  728.55441   \n",
       "2013  393.30849  95.98358  3939.62453         376.48688  593.24166   \n",
       "2014  389.43470  95.03821  3900.82220         372.77876  587.39867   \n",
       "2015  360.85560  88.06373  3614.55601         345.42198  544.29177   \n",
       "2016  376.96346  91.99471  3775.90245         360.84091  568.58784   \n",
       "\n",
       "      Motorcycle     Others  Pedestrian       Van  \n",
       "Year                                               \n",
       "1997 35681.99458 1006.93617  3975.61294 561.56940  \n",
       "1998 35133.27369  991.45142  3914.47561 552.93354  \n",
       "1999 33388.08900  942.20278  3720.03080 525.46752  \n",
       "2000 31661.82571  893.48810  3527.69416 498.29929  \n",
       "2001 31834.01054  898.34711  3546.87864 501.00916  \n",
       "2002 31253.12326  881.95463  3482.15739 491.86706  \n",
       "2003 33264.46912  938.71426  3706.25733 523.52197  \n",
       "2004 34115.93256  962.74233  3801.12560 536.92244  \n",
       "2005 29651.11056  836.74627  3303.66450 466.65430  \n",
       "2006 22343.03139  630.51426  2489.41366 351.63849  \n",
       "2007 21443.63371  605.13350  2389.20466 337.48361  \n",
       "2008 20355.65265  574.43097  2267.98409 320.36078  \n",
       "2009 19815.13104  559.17760  2207.76031 311.85396  \n",
       "2010 17829.64444  503.14771  1986.54156 280.60603  \n",
       "2011 16127.34827  455.10938  1796.87529 253.81500  \n",
       "2012 15414.01113  434.97920  1717.39677 242.58837  \n",
       "2013 12551.20182  354.19150  1398.42856 197.53298  \n",
       "2014 12427.58195  350.70298  1384.65510 195.58743  \n",
       "2015 11515.57000  324.96625  1283.04064 181.23403  \n",
       "2016 12029.60163  339.47208  1340.31296 189.32395  "
      ]
     },
     "execution_count": 31,
     "metadata": {},
     "output_type": "execute_result"
    }
   ],
   "source": [
    "casualty_vehicle_type"
   ]
  },
  {
   "cell_type": "code",
   "execution_count": 32,
   "id": "ac912a34",
   "metadata": {},
   "outputs": [],
   "source": [
    "casualty_vehicle_type[\"Automobile\"] = casualty_vehicle_type[\"Bus\"] + casualty_vehicle_type[\"Car\"] + casualty_vehicle_type[\"Four-Wheel Drive\"] + casualty_vehicle_type[\"Lorry\"] + casualty_vehicle_type[\"Van\"]\n",
    "casualty_vehicle_type[\"Other\"] = casualty_vehicle_type[\"Bicycle\"] + casualty_vehicle_type[\"Others\"] + casualty_vehicle_type[\"Pedestrian\"]\n",
    "casualty_vehicle_type = casualty_vehicle_type[[\"Automobile\", \"Motorcycle\", \"Other\"]]"
   ]
  },
  {
   "cell_type": "code",
   "execution_count": 33,
   "id": "84ee71d5",
   "metadata": {},
   "outputs": [],
   "source": [
    "casualty_proportion = casualty_vehicle_type.div(casualty_vehicle_type.sum(axis=1), axis='index')"
   ]
  },
  {
   "cell_type": "code",
   "execution_count": 34,
   "id": "96b25545",
   "metadata": {},
   "outputs": [
    {
     "data": {
      "text/html": [
       "<div>\n",
       "<style scoped>\n",
       "    .dataframe tbody tr th:only-of-type {\n",
       "        vertical-align: middle;\n",
       "    }\n",
       "\n",
       "    .dataframe tbody tr th {\n",
       "        vertical-align: top;\n",
       "    }\n",
       "\n",
       "    .dataframe thead th {\n",
       "        text-align: right;\n",
       "    }\n",
       "</style>\n",
       "<table border=\"1\" class=\"dataframe\">\n",
       "  <thead>\n",
       "    <tr style=\"text-align: right;\">\n",
       "      <th></th>\n",
       "      <th>Automobile</th>\n",
       "      <th>Motorcycle</th>\n",
       "      <th>Other</th>\n",
       "    </tr>\n",
       "    <tr>\n",
       "      <th>Year</th>\n",
       "      <th></th>\n",
       "      <th></th>\n",
       "      <th></th>\n",
       "    </tr>\n",
       "  </thead>\n",
       "  <tbody>\n",
       "    <tr>\n",
       "      <th>1997</th>\n",
       "      <td>0.26145</td>\n",
       "      <td>0.63071</td>\n",
       "      <td>0.10784</td>\n",
       "    </tr>\n",
       "    <tr>\n",
       "      <th>1998</th>\n",
       "      <td>0.26145</td>\n",
       "      <td>0.63071</td>\n",
       "      <td>0.10784</td>\n",
       "    </tr>\n",
       "    <tr>\n",
       "      <th>1999</th>\n",
       "      <td>0.26145</td>\n",
       "      <td>0.63071</td>\n",
       "      <td>0.10784</td>\n",
       "    </tr>\n",
       "    <tr>\n",
       "      <th>2000</th>\n",
       "      <td>0.26145</td>\n",
       "      <td>0.63071</td>\n",
       "      <td>0.10784</td>\n",
       "    </tr>\n",
       "    <tr>\n",
       "      <th>2001</th>\n",
       "      <td>0.26145</td>\n",
       "      <td>0.63071</td>\n",
       "      <td>0.10784</td>\n",
       "    </tr>\n",
       "    <tr>\n",
       "      <th>2002</th>\n",
       "      <td>0.26145</td>\n",
       "      <td>0.63071</td>\n",
       "      <td>0.10784</td>\n",
       "    </tr>\n",
       "    <tr>\n",
       "      <th>2003</th>\n",
       "      <td>0.26145</td>\n",
       "      <td>0.63071</td>\n",
       "      <td>0.10784</td>\n",
       "    </tr>\n",
       "    <tr>\n",
       "      <th>2004</th>\n",
       "      <td>0.26145</td>\n",
       "      <td>0.63071</td>\n",
       "      <td>0.10784</td>\n",
       "    </tr>\n",
       "    <tr>\n",
       "      <th>2005</th>\n",
       "      <td>0.26145</td>\n",
       "      <td>0.63071</td>\n",
       "      <td>0.10784</td>\n",
       "    </tr>\n",
       "    <tr>\n",
       "      <th>2006</th>\n",
       "      <td>0.26145</td>\n",
       "      <td>0.63071</td>\n",
       "      <td>0.10784</td>\n",
       "    </tr>\n",
       "    <tr>\n",
       "      <th>2007</th>\n",
       "      <td>0.26145</td>\n",
       "      <td>0.63071</td>\n",
       "      <td>0.10784</td>\n",
       "    </tr>\n",
       "    <tr>\n",
       "      <th>2008</th>\n",
       "      <td>0.26145</td>\n",
       "      <td>0.63071</td>\n",
       "      <td>0.10784</td>\n",
       "    </tr>\n",
       "    <tr>\n",
       "      <th>2009</th>\n",
       "      <td>0.26145</td>\n",
       "      <td>0.63071</td>\n",
       "      <td>0.10784</td>\n",
       "    </tr>\n",
       "    <tr>\n",
       "      <th>2010</th>\n",
       "      <td>0.26145</td>\n",
       "      <td>0.63071</td>\n",
       "      <td>0.10784</td>\n",
       "    </tr>\n",
       "    <tr>\n",
       "      <th>2011</th>\n",
       "      <td>0.26145</td>\n",
       "      <td>0.63071</td>\n",
       "      <td>0.10784</td>\n",
       "    </tr>\n",
       "    <tr>\n",
       "      <th>2012</th>\n",
       "      <td>0.26145</td>\n",
       "      <td>0.63071</td>\n",
       "      <td>0.10784</td>\n",
       "    </tr>\n",
       "    <tr>\n",
       "      <th>2013</th>\n",
       "      <td>0.26145</td>\n",
       "      <td>0.63071</td>\n",
       "      <td>0.10784</td>\n",
       "    </tr>\n",
       "    <tr>\n",
       "      <th>2014</th>\n",
       "      <td>0.26145</td>\n",
       "      <td>0.63071</td>\n",
       "      <td>0.10784</td>\n",
       "    </tr>\n",
       "    <tr>\n",
       "      <th>2015</th>\n",
       "      <td>0.26145</td>\n",
       "      <td>0.63071</td>\n",
       "      <td>0.10784</td>\n",
       "    </tr>\n",
       "    <tr>\n",
       "      <th>2016</th>\n",
       "      <td>0.26145</td>\n",
       "      <td>0.63071</td>\n",
       "      <td>0.10784</td>\n",
       "    </tr>\n",
       "  </tbody>\n",
       "</table>\n",
       "</div>"
      ],
      "text/plain": [
       "      Automobile  Motorcycle   Other\n",
       "Year                                \n",
       "1997     0.26145     0.63071 0.10784\n",
       "1998     0.26145     0.63071 0.10784\n",
       "1999     0.26145     0.63071 0.10784\n",
       "2000     0.26145     0.63071 0.10784\n",
       "2001     0.26145     0.63071 0.10784\n",
       "2002     0.26145     0.63071 0.10784\n",
       "2003     0.26145     0.63071 0.10784\n",
       "2004     0.26145     0.63071 0.10784\n",
       "2005     0.26145     0.63071 0.10784\n",
       "2006     0.26145     0.63071 0.10784\n",
       "2007     0.26145     0.63071 0.10784\n",
       "2008     0.26145     0.63071 0.10784\n",
       "2009     0.26145     0.63071 0.10784\n",
       "2010     0.26145     0.63071 0.10784\n",
       "2011     0.26145     0.63071 0.10784\n",
       "2012     0.26145     0.63071 0.10784\n",
       "2013     0.26145     0.63071 0.10784\n",
       "2014     0.26145     0.63071 0.10784\n",
       "2015     0.26145     0.63071 0.10784\n",
       "2016     0.26145     0.63071 0.10784"
      ]
     },
     "execution_count": 34,
     "metadata": {},
     "output_type": "execute_result"
    }
   ],
   "source": [
    "casualty_proportion"
   ]
  },
  {
   "cell_type": "code",
   "execution_count": 35,
   "id": "7ac758c0",
   "metadata": {},
   "outputs": [
    {
     "data": {
      "text/plain": [
       "Automobile    8438.06102\n",
       "Motorcycle   20355.65265\n",
       "Other         3480.28633\n",
       "Name: 2008, dtype: float64"
      ]
     },
     "execution_count": 35,
     "metadata": {},
     "output_type": "execute_result"
    }
   ],
   "source": [
    "casualty_vehicle_type.loc[2008]"
   ]
  },
  {
   "cell_type": "code",
   "execution_count": 36,
   "id": "dfa3d626",
   "metadata": {},
   "outputs": [
    {
     "data": {
      "text/plain": [
       "np.float64(145814950.50887576)"
      ]
     },
     "execution_count": 36,
     "metadata": {},
     "output_type": "execute_result"
    }
   ],
   "source": [
    "casualty_2008 = accidents.loc[2008,\"Casualties\"]\n",
    "total_cost_2008 = casualty_2008 * total_average_cost\n",
    "total_cost_2008"
   ]
  },
  {
   "cell_type": "code",
   "execution_count": 37,
   "id": "56be7e1d",
   "metadata": {},
   "outputs": [],
   "source": [
    "automobile_and_motorcycle_cost_2008 = total_cost_2008 * (1 - casualty_proportion.loc[2008, \"Other\"])"
   ]
  },
  {
   "cell_type": "code",
   "execution_count": 38,
   "id": "5bbc2ef9",
   "metadata": {},
   "outputs": [
    {
     "data": {
      "text/plain": [
       "Automobile    8438.06102\n",
       "Motorcycle   20355.65265\n",
       "Name: 2008, dtype: float64"
      ]
     },
     "execution_count": 38,
     "metadata": {},
     "output_type": "execute_result"
    }
   ],
   "source": [
    "casualty_vehicle_type.loc[2008].drop(index=[\"Other\"])"
   ]
  },
  {
   "cell_type": "code",
   "execution_count": 39,
   "id": "2ead2699",
   "metadata": {},
   "outputs": [
    {
     "data": {
      "text/plain": [
       "np.float64(2646.8481035470886)"
      ]
     },
     "execution_count": 39,
     "metadata": {},
     "output_type": "execute_result"
    }
   ],
   "source": [
    "cost_per_auto_2008 = automobile_and_motorcycle_cost_2008 / (casualty_vehicle_type.loc[2008, \"Automobile\"] + casualty_vehicle_type.loc[2008, \"Motorcycle\"] * 2)\n",
    "cost_per_auto_2008"
   ]
  },
  {
   "cell_type": "code",
   "execution_count": 40,
   "id": "c693d413",
   "metadata": {},
   "outputs": [
    {
     "data": {
      "text/plain": [
       "np.float64(5293.696207094177)"
      ]
     },
     "execution_count": 40,
     "metadata": {},
     "output_type": "execute_result"
    }
   ],
   "source": [
    "cost_per_cycle_2008 = 2 * cost_per_auto_2008\n",
    "cost_per_cycle_2008"
   ]
  },
  {
   "cell_type": "code",
   "execution_count": 41,
   "id": "426b7082",
   "metadata": {},
   "outputs": [
    {
     "data": {
      "text/plain": [
       "np.float64(130090907.01791432)"
      ]
     },
     "execution_count": 41,
     "metadata": {},
     "output_type": "execute_result"
    }
   ],
   "source": [
    "(cost_per_auto_2008 * casualty_vehicle_type.loc[2008, \"Automobile\"]) + (cost_per_cycle_2008 * casualty_vehicle_type.loc[2008, \"Motorcycle\"])"
   ]
  },
  {
   "cell_type": "code",
   "execution_count": 42,
   "id": "dfd1c063",
   "metadata": {},
   "outputs": [
    {
     "data": {
      "text/plain": [
       "np.float64(130090907.01791432)"
      ]
     },
     "execution_count": 42,
     "metadata": {},
     "output_type": "execute_result"
    }
   ],
   "source": [
    "automobile_and_motorcycle_cost_2008"
   ]
  },
  {
   "cell_type": "code",
   "execution_count": 43,
   "id": "92baf9f0",
   "metadata": {},
   "outputs": [
    {
     "data": {
      "text/html": [
       "<div>\n",
       "<style scoped>\n",
       "    .dataframe tbody tr th:only-of-type {\n",
       "        vertical-align: middle;\n",
       "    }\n",
       "\n",
       "    .dataframe tbody tr th {\n",
       "        vertical-align: top;\n",
       "    }\n",
       "\n",
       "    .dataframe thead th {\n",
       "        text-align: right;\n",
       "    }\n",
       "</style>\n",
       "<table border=\"1\" class=\"dataframe\">\n",
       "  <thead>\n",
       "    <tr style=\"text-align: right;\">\n",
       "      <th></th>\n",
       "      <th>Inflation Rate</th>\n",
       "    </tr>\n",
       "    <tr>\n",
       "      <th>Year</th>\n",
       "      <th></th>\n",
       "    </tr>\n",
       "  </thead>\n",
       "  <tbody>\n",
       "    <tr>\n",
       "      <th>2009</th>\n",
       "      <td>8.90000</td>\n",
       "    </tr>\n",
       "    <tr>\n",
       "      <th>2010</th>\n",
       "      <td>9.75000</td>\n",
       "    </tr>\n",
       "    <tr>\n",
       "      <th>2011</th>\n",
       "      <td>10.00000</td>\n",
       "    </tr>\n",
       "    <tr>\n",
       "      <th>2012</th>\n",
       "      <td>10.10000</td>\n",
       "    </tr>\n",
       "    <tr>\n",
       "      <th>2013</th>\n",
       "      <td>11.00000</td>\n",
       "    </tr>\n",
       "    <tr>\n",
       "      <th>2014</th>\n",
       "      <td>11.00000</td>\n",
       "    </tr>\n",
       "    <tr>\n",
       "      <th>2015</th>\n",
       "      <td>12.00000</td>\n",
       "    </tr>\n",
       "    <tr>\n",
       "      <th>2016</th>\n",
       "      <td>14.00000</td>\n",
       "    </tr>\n",
       "    <tr>\n",
       "      <th>2017</th>\n",
       "      <td>15.00000</td>\n",
       "    </tr>\n",
       "    <tr>\n",
       "      <th>2018</th>\n",
       "      <td>15.30000</td>\n",
       "    </tr>\n",
       "    <tr>\n",
       "      <th>2019</th>\n",
       "      <td>16.00000</td>\n",
       "    </tr>\n",
       "    <tr>\n",
       "      <th>2020</th>\n",
       "      <td>14.00000</td>\n",
       "    </tr>\n",
       "    <tr>\n",
       "      <th>2021</th>\n",
       "      <td>14.00000</td>\n",
       "    </tr>\n",
       "    <tr>\n",
       "      <th>2022</th>\n",
       "      <td>12.00000</td>\n",
       "    </tr>\n",
       "    <tr>\n",
       "      <th>2023</th>\n",
       "      <td>12.60000</td>\n",
       "    </tr>\n",
       "  </tbody>\n",
       "</table>\n",
       "</div>"
      ],
      "text/plain": [
       "      Inflation Rate\n",
       "Year                \n",
       "2009         8.90000\n",
       "2010         9.75000\n",
       "2011        10.00000\n",
       "2012        10.10000\n",
       "2013        11.00000\n",
       "2014        11.00000\n",
       "2015        12.00000\n",
       "2016        14.00000\n",
       "2017        15.00000\n",
       "2018        15.30000\n",
       "2019        16.00000\n",
       "2020        14.00000\n",
       "2021        14.00000\n",
       "2022        12.00000\n",
       "2023        12.60000"
      ]
     },
     "execution_count": 43,
     "metadata": {},
     "output_type": "execute_result"
    }
   ],
   "source": [
    "inflation = pd.read_csv(\"data/Medical cost inflation.csv\", index_col=\"Year\")\n",
    "inflation"
   ]
  },
  {
   "cell_type": "code",
   "execution_count": 44,
   "id": "5c0d6701",
   "metadata": {},
   "outputs": [
    {
     "data": {
      "image/png": "[encoded data removed]",
      "text/plain": [
       "<Figure size 640x480 with 1 Axes>"
      ]
     },
     "metadata": {},
     "output_type": "display_data"
    }
   ],
   "source": [
    "ax = sns.lineplot(inflation[\"Inflation Rate\"])\n",
    "ax.set_title(\"Medical Inflation rate (%)\")\n",
    "\n",
    "# label points on plot\n",
    "for x, y in zip(inflation.index, inflation[\"Inflation Rate\"]):\n",
    "    plt.text(x=x,\n",
    "             y=y-0.3,\n",
    "             s='{:.1f}'.format(y),\n",
    "             color='purple')"
   ]
  },
  {
   "cell_type": "code",
   "execution_count": 45,
   "id": "d3e0d3a6",
   "metadata": {},
   "outputs": [],
   "source": [
    "inflation[\"Inflation Rate\"] = inflation[\"Inflation Rate\"] / 100 + 1"
   ]
  },
  {
   "cell_type": "code",
   "execution_count": 46,
   "id": "502de243",
   "metadata": {},
   "outputs": [
    {
     "data": {
      "text/plain": [
       "np.float64(5.09793280253751)"
      ]
     },
     "execution_count": 46,
     "metadata": {},
     "output_type": "execute_result"
    }
   ],
   "source": [
    "total_inflation = np.prod(inflation.loc[:2022], axis=0).iloc[0]\n",
    "total_inflation"
   ]
  },
  {
   "cell_type": "code",
   "execution_count": 47,
   "id": "05b47021",
   "metadata": {},
   "outputs": [],
   "source": [
    "cost_per_cycle_2022 = cost_per_cycle_2008 * total_inflation\n",
    "cost_per_auto_2022 = cost_per_auto_2008 * total_inflation"
   ]
  },
  {
   "cell_type": "code",
   "execution_count": 48,
   "id": "5b33b671",
   "metadata": {},
   "outputs": [
    {
     "data": {
      "text/plain": [
       "np.float64(13493.453770406904)"
      ]
     },
     "execution_count": 48,
     "metadata": {},
     "output_type": "execute_result"
    }
   ],
   "source": [
    "cost_per_auto_2022"
   ]
  },
  {
   "cell_type": "code",
   "execution_count": 49,
   "id": "1cd42ccd",
   "metadata": {},
   "outputs": [
    {
     "data": {
      "text/plain": [
       "np.float64(26986.90754081381)"
      ]
     },
     "execution_count": 49,
     "metadata": {},
     "output_type": "execute_result"
    }
   ],
   "source": [
    "cost_per_cycle_2022"
   ]
  },
  {
   "cell_type": "code",
   "execution_count": 50,
   "id": "d1aa7223",
   "metadata": {},
   "outputs": [],
   "source": [
    "total_casualties_2022 = 34036\n"
   ]
  },
  {
   "cell_type": "code",
   "execution_count": 73,
   "id": "76872569",
   "metadata": {},
   "outputs": [
    {
     "data": {
      "text/plain": [
       "np.float64(0.6307136595470321)"
      ]
     },
     "execution_count": 73,
     "metadata": {},
     "output_type": "execute_result"
    }
   ],
   "source": [
    "casualty_proportion.iloc[0][\"Motorcycle\"]"
   ]
  },
  {
   "cell_type": "code",
   "execution_count": 51,
   "id": "7a477f5a",
   "metadata": {},
   "outputs": [
    {
     "data": {
      "text/plain": [
       "np.float64(21466.97011634278)"
      ]
     },
     "execution_count": 51,
     "metadata": {},
     "output_type": "execute_result"
    }
   ],
   "source": [
    "motorcycle_casualties = casualty_proportion.iloc[0][\"Motorcycle\"] * total_casualties_2022\n",
    "motorcycle_casualties"
   ]
  },
  {
   "cell_type": "code",
   "execution_count": 75,
   "id": "fd9fefb5",
   "metadata": {},
   "outputs": [
    {
     "data": {
      "text/plain": [
       "np.float64(0.6307136595470321)"
      ]
     },
     "execution_count": 75,
     "metadata": {},
     "output_type": "execute_result"
    }
   ],
   "source": [
    "casualty_proportion.iloc[0][\"Motorcycle\"]"
   ]
  },
  {
   "cell_type": "code",
   "execution_count": 78,
   "id": "d5131fa7",
   "metadata": {},
   "outputs": [
    {
     "data": {
      "text/plain": [
       "np.float64(21267.993845934998)"
      ]
     },
     "execution_count": 78,
     "metadata": {},
     "output_type": "execute_result"
    }
   ],
   "source": [
    "(casualty_proportion.iloc[0][\"Motorcycle\"] - (sem(fatalities_trimmed)[1]/100)) * total_casualties_2022"
   ]
  },
  {
   "cell_type": "code",
   "execution_count": 80,
   "id": "8d7f5528",
   "metadata": {},
   "outputs": [
    {
     "data": {
      "text/plain": [
       "np.float64(198.97627040778715)"
      ]
     },
     "execution_count": 80,
     "metadata": {},
     "output_type": "execute_result"
    }
   ],
   "source": [
    "(sem(fatalities_trimmed)[1]/100) * total_casualties_2022"
   ]
  },
  {
   "cell_type": "code",
   "execution_count": 52,
   "id": "6a85f0c3",
   "metadata": {},
   "outputs": [
    {
     "data": {
      "text/plain": [
       "np.float64(8898.737212085198)"
      ]
     },
     "execution_count": 52,
     "metadata": {},
     "output_type": "execute_result"
    }
   ],
   "source": [
    "automobile_casualties = casualty_proportion.iloc[0][\"Automobile\"] * total_casualties_2022\n",
    "automobile_casualties"
   ]
  },
  {
   "cell_type": "code",
   "execution_count": 81,
   "id": "c52e2265",
   "metadata": {},
   "outputs": [
    {
     "data": {
      "text/plain": [
       "np.float64(144.11572068901532)"
      ]
     },
     "execution_count": 81,
     "metadata": {},
     "output_type": "execute_result"
    }
   ],
   "source": [
    "(sem(fatalities_trimmed)[0]/100) * total_casualties_2022"
   ]
  },
  {
   "cell_type": "code",
   "execution_count": 53,
   "id": "ba9f3abc",
   "metadata": {},
   "outputs": [
    {
     "data": {
      "text/plain": [
       "np.float64(3670.2926715720196)"
      ]
     },
     "execution_count": 53,
     "metadata": {},
     "output_type": "execute_result"
    }
   ],
   "source": [
    "other_casualties = casualty_proportion.iloc[0][\"Other\"] * total_casualties_2022\n",
    "other_casualties"
   ]
  },
  {
   "cell_type": "code",
   "execution_count": 54,
   "id": "8a72d0bc",
   "metadata": {},
   "outputs": [
    {
     "data": {
      "text/plain": [
       "np.float64(579327137.7111557)"
      ]
     },
     "execution_count": 54,
     "metadata": {},
     "output_type": "execute_result"
    }
   ],
   "source": [
    "motorcycle_cost = motorcycle_casualties * cost_per_cycle_2022\n",
    "motorcycle_cost"
   ]
  },
  {
   "cell_type": "code",
   "execution_count": 55,
   "id": "cb018f46",
   "metadata": {},
   "outputs": [
    {
     "data": {
      "text/plain": [
       "np.float64(120074699.18627124)"
      ]
     },
     "execution_count": 55,
     "metadata": {},
     "output_type": "execute_result"
    }
   ],
   "source": [
    "automobile_cost = automobile_casualties * cost_per_auto_2022\n",
    "automobile_cost"
   ]
  },
  {
   "cell_type": "code",
   "execution_count": 56,
   "id": "dbc9f739",
   "metadata": {},
   "outputs": [],
   "source": [
    "ceh_public_2022 = 35485889929.6"
   ]
  },
  {
   "cell_type": "code",
   "execution_count": 57,
   "id": "a8d11b22",
   "metadata": {},
   "outputs": [
    {
     "data": {
      "text/plain": [
       "np.float64(0.01632556317061444)"
      ]
     },
     "execution_count": 57,
     "metadata": {},
     "output_type": "execute_result"
    }
   ],
   "source": [
    "motorcycle_cost / ceh_public_2022"
   ]
  },
  {
   "cell_type": "code",
   "execution_count": 58,
   "id": "31a8a6fa",
   "metadata": {},
   "outputs": [
    {
     "data": {
      "text/plain": [
       "11182074.666666666"
      ]
     },
     "execution_count": 58,
     "metadata": {},
     "output_type": "execute_result"
    }
   ],
   "source": [
    "active_motorcycles = (16773112 / 36 * 24)\n",
    "active_motorcycles"
   ]
  },
  {
   "cell_type": "code",
   "execution_count": 59,
   "id": "0f03afc8",
   "metadata": {},
   "outputs": [
    {
     "data": {
      "text/plain": [
       "12449587.333333334"
      ]
     },
     "execution_count": 59,
     "metadata": {},
     "output_type": "execute_result"
    }
   ],
   "source": [
    "active_auto = (17244978 + 1429403) / 36 * 24\n",
    "active_auto"
   ]
  },
  {
   "cell_type": "code",
   "execution_count": 60,
   "id": "48e4dbc2",
   "metadata": {},
   "outputs": [
    {
     "data": {
      "text/plain": [
       "np.float64(51.80855565542837)"
      ]
     },
     "execution_count": 60,
     "metadata": {},
     "output_type": "execute_result"
    }
   ],
   "source": [
    "motorcycle_cost / active_motorcycles"
   ]
  },
  {
   "cell_type": "code",
   "execution_count": 61,
   "id": "36deeaba",
   "metadata": {},
   "outputs": [
    {
     "data": {
      "text/plain": [
       "np.float64(621.7026678651405)"
      ]
     },
     "execution_count": 61,
     "metadata": {},
     "output_type": "execute_result"
    }
   ],
   "source": [
    "motorcycle_cost / active_motorcycles * 12"
   ]
  },
  {
   "cell_type": "code",
   "execution_count": 62,
   "id": "9cbd81b3",
   "metadata": {},
   "outputs": [
    {
     "data": {
      "text/plain": [
       "np.float64(9.644873839695508)"
      ]
     },
     "execution_count": 62,
     "metadata": {},
     "output_type": "execute_result"
    }
   ],
   "source": [
    "automobile_cost / active_auto"
   ]
  },
  {
   "cell_type": "code",
   "execution_count": 63,
   "id": "41d364c6",
   "metadata": {},
   "outputs": [
    {
     "data": {
      "text/plain": [
       "np.float64(115.7384860763461)"
      ]
     },
     "execution_count": 63,
     "metadata": {},
     "output_type": "execute_result"
    }
   ],
   "source": [
    "automobile_cost / active_auto * 12"
   ]
  },
  {
   "cell_type": "code",
   "execution_count": 64,
   "id": "e6629f31",
   "metadata": {},
   "outputs": [
    {
     "data": {
      "text/plain": [
       "np.float64(0.0019197663006432066)"
      ]
     },
     "execution_count": 64,
     "metadata": {},
     "output_type": "execute_result"
    }
   ],
   "source": [
    "motorcycle_casualties / active_motorcycles"
   ]
  },
  {
   "cell_type": "code",
   "execution_count": 65,
   "id": "4d65199c",
   "metadata": {},
   "outputs": [
    {
     "data": {
      "text/plain": [
       "np.float64(0.0007147817010977657)"
      ]
     },
     "execution_count": 65,
     "metadata": {},
     "output_type": "execute_result"
    }
   ],
   "source": [
    "automobile_casualties / active_auto"
   ]
  },
  {
   "cell_type": "code",
   "execution_count": 66,
   "id": "9cdc348c",
   "metadata": {},
   "outputs": [
    {
     "data": {
      "text/plain": [
       "0.155"
      ]
     },
     "execution_count": 66,
     "metadata": {},
     "output_type": "execute_result"
    }
   ],
   "source": [
    "620/4000"
   ]
  },
  {
   "cell_type": "code",
   "execution_count": null,
   "id": "cb373f0e",
   "metadata": {},
   "outputs": [],
   "source": []
  }
 ],
 "metadata": {
  "kernelspec": {
   "display_name": "py313",
   "language": "python",
   "name": "python3"
  },
  "language_info": {
   "codemirror_mode": {
    "name": "ipython",
    "version": 3
   },
   "file_extension": ".py",
   "mimetype": "text/x-python",
   "name": "python",
   "nbconvert_exporter": "python",
   "pygments_lexer": "ipython3",
   "version": "3.13.2"
  }
 },
 "nbformat": 4,
 "nbformat_minor": 5
}
